{
 "cells": [
  {
   "cell_type": "code",
   "execution_count": 1,
   "metadata": {},
   "outputs": [],
   "source": [
    "from googleapiclient.discovery import build\n",
    "from googleapiclient.errors import HttpError\n",
    "\n",
    "import json\n",
    "import pandas as pd\n",
    "import numpy as np # for NaN values\n",
    "import os"
   ]
  },
  {
   "cell_type": "code",
   "execution_count": 2,
   "metadata": {},
   "outputs": [],
   "source": [
    "# Set environment variables\n",
    "PLACES_KEY =  os.getenv('PLACES_API_KEY')\n",
    "# Set service\n",
    "service = build('places', 'v1', developerKey=PLACES_KEY)"
   ]
  },
  {
   "cell_type": "code",
   "execution_count": 3,
   "metadata": {},
   "outputs": [],
   "source": [
    "def places_connection(api_key):\n",
    "    try:\n",
    "        # Connect to Google Places API\n",
    "        service = build('places', 'v1', developerKey=api_key)        \n",
    "               \n",
    "        return service\n",
    "    \n",
    "    except HttpError as error:\n",
    "        print(f'An error occurred: {error}')\n",
    "        return None"
   ]
  },
  {
   "cell_type": "code",
   "execution_count": 4,
   "metadata": {},
   "outputs": [],
   "source": [
    "service = places_connection(PLACES_KEY)"
   ]
  },
  {
   "cell_type": "code",
   "execution_count": 5,
   "metadata": {},
   "outputs": [
    {
     "data": {
      "text/html": [
       "<div>\n",
       "<style scoped>\n",
       "    .dataframe tbody tr th:only-of-type {\n",
       "        vertical-align: middle;\n",
       "    }\n",
       "\n",
       "    .dataframe tbody tr th {\n",
       "        vertical-align: top;\n",
       "    }\n",
       "\n",
       "    .dataframe thead th {\n",
       "        text-align: right;\n",
       "    }\n",
       "</style>\n",
       "<table border=\"1\" class=\"dataframe\">\n",
       "  <thead>\n",
       "    <tr style=\"text-align: right;\">\n",
       "      <th></th>\n",
       "      <th>city</th>\n",
       "    </tr>\n",
       "  </thead>\n",
       "  <tbody>\n",
       "    <tr>\n",
       "      <th>0</th>\n",
       "      <td>Altamonte-Springs</td>\n",
       "    </tr>\n",
       "    <tr>\n",
       "      <th>1</th>\n",
       "      <td>Apopka</td>\n",
       "    </tr>\n",
       "    <tr>\n",
       "      <th>2</th>\n",
       "      <td>Bartow</td>\n",
       "    </tr>\n",
       "  </tbody>\n",
       "</table>\n",
       "</div>"
      ],
      "text/plain": [
       "                city\n",
       "0  Altamonte-Springs\n",
       "1             Apopka\n",
       "2             Bartow"
      ]
     },
     "execution_count": 5,
     "metadata": {},
     "output_type": "execute_result"
    }
   ],
   "source": [
    "# Load cities\n",
    "cities = pd.read_csv('tests\\cities.csv')\n",
    "cities[:3]"
   ]
  },
  {
   "cell_type": "code",
   "execution_count": 6,
   "metadata": {},
   "outputs": [],
   "source": [
    "family_fun = ['museum',\n",
    "'cultural_landmark',\n",
    "'historical_place',\n",
    "'water_park',\n",
    "'aquarium',\n",
    "'shopping_mall']"
   ]
  },
  {
   "cell_type": "code",
   "execution_count": 15,
   "metadata": {},
   "outputs": [],
   "source": [
    "# Loop through each city\n",
    "def get_places(cities, family_fun):\n",
    "    stay_list = []  # List to store places to stay\n",
    "\n",
    "    for city in cities:\n",
    "\n",
    "        for place in family_fun:\n",
    "\n",
    "            try:\n",
    "                # Prepare the initial search query\n",
    "                query = f'{place} in {city}, Florida, USA'\n",
    "                request_body = {\n",
    "                    'textQuery': query,\n",
    "                    'regionCode': 'US',\n",
    "                    'languageCode':'en',\n",
    "                    'pageSize': 20\n",
    "                }\n",
    "                \n",
    "                # Make the request to the   \n",
    "                response = service.places().searchText(body=request_body, fields='*').execute()\n",
    "                \n",
    "                # Process the current page of results\n",
    "                if 'places' in response:\n",
    "                    for place in response['places']:\n",
    "                        store_data = {\n",
    "                                    'City': city,\n",
    "                                    'Family fun': place.get('displayName', {}).get('text', 'N/A'),\n",
    "                                    'Address': place.get('formattedAddress', 'N/A'),\n",
    "                                    'Latitude': place.get('location', {}).get('latitude', np.nan),\n",
    "                                    'Longitude': place.get('location', {}).get('longitude', np.nan),\n",
    "                                    'Rating': place.get('rating', np.nan),\n",
    "                                    'User Rating Count': place.get('userRatingCount', 0),\n",
    "                                    'Comments': [\n",
    "                                        review.get('text', 'N/A') for review in place.get('reviews', [])[:3]\n",
    "                                    ]  # Extraer hasta los 3 mejores comentarios\n",
    "                                }\n",
    "\n",
    "                        stay_list.append(store_data)                    \n",
    "                        \n",
    "            except Exception as e:\n",
    "                    print(f\"Error processing {city}: {e}\")                \n",
    "                    continue\n",
    "\n",
    "            # Convert to DataFrames\n",
    "        df = pd.DataFrame(stay_list)\n",
    "\n",
    "    return df"
   ]
  },
  {
   "cell_type": "code",
   "execution_count": 16,
   "metadata": {},
   "outputs": [],
   "source": [
    "df = get_places(cities['city'], family_fun)"
   ]
  },
  {
   "cell_type": "code",
   "execution_count": 17,
   "metadata": {},
   "outputs": [
    {
     "name": "stdout",
     "output_type": "stream",
     "text": [
      "<class 'pandas.core.frame.DataFrame'>\n",
      "RangeIndex: 2149 entries, 0 to 2148\n",
      "Data columns (total 8 columns):\n",
      " #   Column             Non-Null Count  Dtype  \n",
      "---  ------             --------------  -----  \n",
      " 0   City               2149 non-null   object \n",
      " 1   Family fun         2149 non-null   object \n",
      " 2   Address            2149 non-null   object \n",
      " 3   Latitude           2149 non-null   float64\n",
      " 4   Longitude          2149 non-null   float64\n",
      " 5   Rating             2063 non-null   float64\n",
      " 6   User Rating Count  2149 non-null   int64  \n",
      " 7   Comments           2149 non-null   object \n",
      "dtypes: float64(3), int64(1), object(4)\n",
      "memory usage: 134.4+ KB\n"
     ]
    }
   ],
   "source": [
    "df.info()"
   ]
  },
  {
   "cell_type": "code",
   "execution_count": 18,
   "metadata": {},
   "outputs": [
    {
     "name": "stdout",
     "output_type": "stream",
     "text": [
      "<class 'pandas.core.frame.DataFrame'>\n",
      "RangeIndex: 2149 entries, 0 to 2148\n",
      "Data columns (total 8 columns):\n",
      " #   Column             Non-Null Count  Dtype  \n",
      "---  ------             --------------  -----  \n",
      " 0   City               2149 non-null   object \n",
      " 1   Family fun         2149 non-null   object \n",
      " 2   Address            2149 non-null   object \n",
      " 3   Latitude           2149 non-null   float64\n",
      " 4   Longitude          2149 non-null   float64\n",
      " 5   Rating             2063 non-null   float64\n",
      " 6   User Rating Count  2149 non-null   int64  \n",
      " 7   Comments           2149 non-null   object \n",
      "dtypes: float64(3), int64(1), object(4)\n",
      "memory usage: 134.4+ KB\n"
     ]
    }
   ],
   "source": [
    "df.info()"
   ]
  },
  {
   "cell_type": "code",
   "execution_count": 23,
   "metadata": {},
   "outputs": [],
   "source": [
    "# Filtering the data    \n",
    "df_f = df[(df['Rating'] > 3.5) & (df['User Rating Count'] > 50)]"
   ]
  },
  {
   "cell_type": "code",
   "execution_count": 24,
   "metadata": {},
   "outputs": [
    {
     "name": "stdout",
     "output_type": "stream",
     "text": [
      "<class 'pandas.core.frame.DataFrame'>\n",
      "Index: 1584 entries, 0 to 2148\n",
      "Data columns (total 8 columns):\n",
      " #   Column             Non-Null Count  Dtype  \n",
      "---  ------             --------------  -----  \n",
      " 0   City               1584 non-null   object \n",
      " 1   Family fun         1584 non-null   object \n",
      " 2   Address            1584 non-null   object \n",
      " 3   Latitude           1584 non-null   float64\n",
      " 4   Longitude          1584 non-null   float64\n",
      " 5   Rating             1584 non-null   float64\n",
      " 6   User Rating Count  1584 non-null   int64  \n",
      " 7   Comments           1584 non-null   object \n",
      "dtypes: float64(3), int64(1), object(4)\n",
      "memory usage: 111.4+ KB\n"
     ]
    }
   ],
   "source": [
    "df_f.info()"
   ]
  },
  {
   "cell_type": "code",
   "execution_count": 25,
   "metadata": {},
   "outputs": [],
   "source": [
    "df_f = df_f.drop_duplicates(subset='Latitude')"
   ]
  },
  {
   "cell_type": "code",
   "execution_count": 26,
   "metadata": {},
   "outputs": [
    {
     "name": "stdout",
     "output_type": "stream",
     "text": [
      "<class 'pandas.core.frame.DataFrame'>\n",
      "Index: 620 entries, 0 to 2145\n",
      "Data columns (total 8 columns):\n",
      " #   Column             Non-Null Count  Dtype  \n",
      "---  ------             --------------  -----  \n",
      " 0   City               620 non-null    object \n",
      " 1   Family fun         620 non-null    object \n",
      " 2   Address            620 non-null    object \n",
      " 3   Latitude           620 non-null    float64\n",
      " 4   Longitude          620 non-null    float64\n",
      " 5   Rating             620 non-null    float64\n",
      " 6   User Rating Count  620 non-null    int64  \n",
      " 7   Comments           620 non-null    object \n",
      "dtypes: float64(3), int64(1), object(4)\n",
      "memory usage: 43.6+ KB\n"
     ]
    }
   ],
   "source": [
    "df_f.info()"
   ]
  },
  {
   "cell_type": "markdown",
   "metadata": {},
   "source": [
    "## NODE Family Fun"
   ]
  },
  {
   "cell_type": "code",
   "execution_count": 27,
   "metadata": {},
   "outputs": [],
   "source": [
    "df_f.to_csv(r'neo4j\\nodes\\node_family_fun.csv', index=False, encoding='utf-8')"
   ]
  },
  {
   "cell_type": "code",
   "execution_count": 28,
   "metadata": {},
   "outputs": [],
   "source": [
    "r_ff = df_f[['Family fun', 'City']].copy()"
   ]
  },
  {
   "cell_type": "code",
   "execution_count": 29,
   "metadata": {},
   "outputs": [],
   "source": [
    "r_ff['relation'] = 'PLACES_TO_GET_FUN'"
   ]
  },
  {
   "cell_type": "code",
   "execution_count": 30,
   "metadata": {},
   "outputs": [],
   "source": [
    "r_ff.to_csv(r'neo4j\\relationships\\relation_family_fun.csv', index=False, encoding='utf-8')"
   ]
  }
 ],
 "metadata": {
  "kernelspec": {
   "display_name": "Elec_K-KP2SRN86",
   "language": "python",
   "name": "python3"
  },
  "language_info": {
   "codemirror_mode": {
    "name": "ipython",
    "version": 3
   },
   "file_extension": ".py",
   "mimetype": "text/x-python",
   "name": "python",
   "nbconvert_exporter": "python",
   "pygments_lexer": "ipython3",
   "version": "3.11.7"
  }
 },
 "nbformat": 4,
 "nbformat_minor": 2
}
