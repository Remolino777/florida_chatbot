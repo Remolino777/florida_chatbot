{
 "cells": [
  {
   "cell_type": "code",
   "execution_count": 9,
   "metadata": {},
   "outputs": [],
   "source": [
    "from googleapiclient.discovery import build\n",
    "from googleapiclient.errors import HttpError\n",
    "\n",
    "import json\n",
    "import pandas as pd\n",
    "import numpy as np # for NaN values\n",
    "import os\n"
   ]
  },
  {
   "cell_type": "code",
   "execution_count": 2,
   "metadata": {},
   "outputs": [],
   "source": [
    "# Set environment variables\n",
    "PLACES_KEY =  os.getenv('PLACES_API_KEY')\n",
    "# Set service\n",
    "service = build('places', 'v1', developerKey=PLACES_KEY)"
   ]
  },
  {
   "cell_type": "code",
   "execution_count": 3,
   "metadata": {},
   "outputs": [],
   "source": [
    "def places_connection(api_key):\n",
    "    try:\n",
    "        # Connect to Google Places API\n",
    "        service = build('places', 'v1', developerKey=api_key)        \n",
    "               \n",
    "        return service\n",
    "    \n",
    "    except HttpError as error:\n",
    "        print(f'An error occurred: {error}')\n",
    "        return None"
   ]
  },
  {
   "cell_type": "code",
   "execution_count": 4,
   "metadata": {},
   "outputs": [],
   "source": [
    "service = places_connection(PLACES_KEY)"
   ]
  },
  {
   "cell_type": "code",
   "execution_count": 5,
   "metadata": {},
   "outputs": [
    {
     "data": {
      "text/html": [
       "<div>\n",
       "<style scoped>\n",
       "    .dataframe tbody tr th:only-of-type {\n",
       "        vertical-align: middle;\n",
       "    }\n",
       "\n",
       "    .dataframe tbody tr th {\n",
       "        vertical-align: top;\n",
       "    }\n",
       "\n",
       "    .dataframe thead th {\n",
       "        text-align: right;\n",
       "    }\n",
       "</style>\n",
       "<table border=\"1\" class=\"dataframe\">\n",
       "  <thead>\n",
       "    <tr style=\"text-align: right;\">\n",
       "      <th></th>\n",
       "      <th>city</th>\n",
       "    </tr>\n",
       "  </thead>\n",
       "  <tbody>\n",
       "    <tr>\n",
       "      <th>0</th>\n",
       "      <td>Altamonte-Springs</td>\n",
       "    </tr>\n",
       "    <tr>\n",
       "      <th>1</th>\n",
       "      <td>Apopka</td>\n",
       "    </tr>\n",
       "    <tr>\n",
       "      <th>2</th>\n",
       "      <td>Bartow</td>\n",
       "    </tr>\n",
       "  </tbody>\n",
       "</table>\n",
       "</div>"
      ],
      "text/plain": [
       "                city\n",
       "0  Altamonte-Springs\n",
       "1             Apopka\n",
       "2             Bartow"
      ]
     },
     "execution_count": 5,
     "metadata": {},
     "output_type": "execute_result"
    }
   ],
   "source": [
    "# Load cities\n",
    "cities = pd.read_csv('tests\\cities.csv')\n",
    "cities[:3]"
   ]
  },
  {
   "cell_type": "markdown",
   "metadata": {},
   "source": [
    "## Where to eat"
   ]
  },
  {
   "cell_type": "code",
   "execution_count": 6,
   "metadata": {},
   "outputs": [],
   "source": [
    "where_to_eat = ['bar_and_grill', 'restaurant', 'cafe']"
   ]
  },
  {
   "cell_type": "code",
   "execution_count": 10,
   "metadata": {},
   "outputs": [],
   "source": [
    "# Loop through each city\n",
    "def get_places(cities, where_to_eat):\n",
    "    stay_list = []  # List to store places to stay\n",
    "\n",
    "    for city in cities:\n",
    "\n",
    "        for place in where_to_eat:\n",
    "\n",
    "            try:\n",
    "                # Prepare the initial search query\n",
    "                query = f'{place} in {city}, Florida, USA'\n",
    "                request_body = {\n",
    "                    'textQuery': query,\n",
    "                    'regionCode': 'US',\n",
    "                    'languageCode':'en',\n",
    "                    'pageSize': 20\n",
    "                }\n",
    "                \n",
    "                # Make the request to the   \n",
    "                response = service.places().searchText(body=request_body, fields='*').execute()\n",
    "                \n",
    "                # Process the current page of results\n",
    "                if 'places' in response:\n",
    "                    for place in response['places']:\n",
    "                        store_data = {\n",
    "                                    'City': city,\n",
    "                                    'Where to eat': place.get('displayName', {}).get('text', 'N/A'),\n",
    "                                    'Address': place.get('formattedAddress', 'N/A'),\n",
    "                                    'Latitude': place.get('location', {}).get('latitude', np.nan),\n",
    "                                    'Longitude': place.get('location', {}).get('longitude', np.nan),\n",
    "                                    'Rating': place.get('rating', np.nan),\n",
    "                                    'User Rating Count': place.get('userRatingCount', 0),\n",
    "                                    'Comments': [\n",
    "                                        review.get('text', 'N/A') for review in place.get('reviews', [])[:3]\n",
    "                                    ]  # Extraer hasta los 3 mejores comentarios\n",
    "                                }\n",
    "\n",
    "                        stay_list.append(store_data)                    \n",
    "                        \n",
    "            except Exception as e:\n",
    "                    print(f\"Error processing {city}: {e}\")                \n",
    "                    continue\n",
    "\n",
    "            # Convert to DataFrames\n",
    "        df = pd.DataFrame(stay_list)\n",
    "\n",
    "    return df"
   ]
  },
  {
   "cell_type": "code",
   "execution_count": 11,
   "metadata": {},
   "outputs": [],
   "source": [
    "df = get_places(cities['city'], where_to_eat)"
   ]
  },
  {
   "cell_type": "code",
   "execution_count": 14,
   "metadata": {},
   "outputs": [
    {
     "data": {
      "text/html": [
       "<div>\n",
       "<style scoped>\n",
       "    .dataframe tbody tr th:only-of-type {\n",
       "        vertical-align: middle;\n",
       "    }\n",
       "\n",
       "    .dataframe tbody tr th {\n",
       "        vertical-align: top;\n",
       "    }\n",
       "\n",
       "    .dataframe thead th {\n",
       "        text-align: right;\n",
       "    }\n",
       "</style>\n",
       "<table border=\"1\" class=\"dataframe\">\n",
       "  <thead>\n",
       "    <tr style=\"text-align: right;\">\n",
       "      <th></th>\n",
       "      <th>City</th>\n",
       "      <th>Where to eat</th>\n",
       "      <th>Address</th>\n",
       "      <th>Latitude</th>\n",
       "      <th>Longitude</th>\n",
       "      <th>Rating</th>\n",
       "      <th>User Rating Count</th>\n",
       "      <th>Comments</th>\n",
       "    </tr>\n",
       "  </thead>\n",
       "  <tbody>\n",
       "    <tr>\n",
       "      <th>475</th>\n",
       "      <td>Lake-Buena-Vista</td>\n",
       "      <td>Everglazed Donuts &amp; Cold Brew</td>\n",
       "      <td>1504 E Buena Vista Dr, Lake Buena Vista, FL 32830</td>\n",
       "      <td>28.369860</td>\n",
       "      <td>-81.521216</td>\n",
       "      <td>4.4</td>\n",
       "      <td>1224</td>\n",
       "      <td>[{'text': 'Morning of December 8th, 2024\n",
       "\n",
       "Abso...</td>\n",
       "    </tr>\n",
       "    <tr>\n",
       "      <th>780</th>\n",
       "      <td>Ocala</td>\n",
       "      <td>Ivy on the Square</td>\n",
       "      <td>53 S Magnolia Ave, Ocala, FL 34471</td>\n",
       "      <td>29.185633</td>\n",
       "      <td>-82.136855</td>\n",
       "      <td>4.4</td>\n",
       "      <td>2015</td>\n",
       "      <td>[{'text': 'We enjoyed our food here, and every...</td>\n",
       "    </tr>\n",
       "    <tr>\n",
       "      <th>161</th>\n",
       "      <td>Bartow</td>\n",
       "      <td>Tropical Smoothie Cafe</td>\n",
       "      <td>1490 N Broadway Ave, Bartow, FL 33830</td>\n",
       "      <td>27.908444</td>\n",
       "      <td>-81.842833</td>\n",
       "      <td>4.3</td>\n",
       "      <td>423</td>\n",
       "      <td>[{'text': 'The absolute best customer service ...</td>\n",
       "    </tr>\n",
       "    <tr>\n",
       "      <th>1148</th>\n",
       "      <td>Tavares</td>\n",
       "      <td>Gator Bay Bar and Grill</td>\n",
       "      <td>10320 County Rd 44, Leesburg, FL 34788</td>\n",
       "      <td>28.872788</td>\n",
       "      <td>-81.785014</td>\n",
       "      <td>4.4</td>\n",
       "      <td>963</td>\n",
       "      <td>[{'text': 'If you enjoy a backwoods restaurant...</td>\n",
       "    </tr>\n",
       "    <tr>\n",
       "      <th>1305</th>\n",
       "      <td>Wildwood</td>\n",
       "      <td>City Fire American Oven &amp; Bar</td>\n",
       "      <td>2716 Brownwood Blvd, The Villages, FL 32163</td>\n",
       "      <td>28.844447</td>\n",
       "      <td>-82.021521</td>\n",
       "      <td>4.3</td>\n",
       "      <td>1328</td>\n",
       "      <td>[{'text': 'Cool spot, nice interior vibe.  Als...</td>\n",
       "    </tr>\n",
       "  </tbody>\n",
       "</table>\n",
       "</div>"
      ],
      "text/plain": [
       "                  City                   Where to eat  \\\n",
       "475   Lake-Buena-Vista  Everglazed Donuts & Cold Brew   \n",
       "780              Ocala              Ivy on the Square   \n",
       "161             Bartow         Tropical Smoothie Cafe   \n",
       "1148           Tavares        Gator Bay Bar and Grill   \n",
       "1305          Wildwood  City Fire American Oven & Bar   \n",
       "\n",
       "                                                Address   Latitude  Longitude  \\\n",
       "475   1504 E Buena Vista Dr, Lake Buena Vista, FL 32830  28.369860 -81.521216   \n",
       "780                  53 S Magnolia Ave, Ocala, FL 34471  29.185633 -82.136855   \n",
       "161               1490 N Broadway Ave, Bartow, FL 33830  27.908444 -81.842833   \n",
       "1148             10320 County Rd 44, Leesburg, FL 34788  28.872788 -81.785014   \n",
       "1305        2716 Brownwood Blvd, The Villages, FL 32163  28.844447 -82.021521   \n",
       "\n",
       "      Rating  User Rating Count  \\\n",
       "475      4.4               1224   \n",
       "780      4.4               2015   \n",
       "161      4.3                423   \n",
       "1148     4.4                963   \n",
       "1305     4.3               1328   \n",
       "\n",
       "                                               Comments  \n",
       "475   [{'text': 'Morning of December 8th, 2024\n",
       "\n",
       "Abso...  \n",
       "780   [{'text': 'We enjoyed our food here, and every...  \n",
       "161   [{'text': 'The absolute best customer service ...  \n",
       "1148  [{'text': 'If you enjoy a backwoods restaurant...  \n",
       "1305  [{'text': 'Cool spot, nice interior vibe.  Als...  "
      ]
     },
     "execution_count": 14,
     "metadata": {},
     "output_type": "execute_result"
    }
   ],
   "source": [
    "df.sample(5)"
   ]
  },
  {
   "cell_type": "code",
   "execution_count": 15,
   "metadata": {},
   "outputs": [
    {
     "name": "stdout",
     "output_type": "stream",
     "text": [
      "<class 'pandas.core.frame.DataFrame'>\n",
      "RangeIndex: 1531 entries, 0 to 1530\n",
      "Data columns (total 8 columns):\n",
      " #   Column             Non-Null Count  Dtype  \n",
      "---  ------             --------------  -----  \n",
      " 0   City               1531 non-null   object \n",
      " 1   Where to eat       1531 non-null   object \n",
      " 2   Address            1531 non-null   object \n",
      " 3   Latitude           1531 non-null   float64\n",
      " 4   Longitude          1531 non-null   float64\n",
      " 5   Rating             1529 non-null   float64\n",
      " 6   User Rating Count  1531 non-null   int64  \n",
      " 7   Comments           1531 non-null   object \n",
      "dtypes: float64(3), int64(1), object(4)\n",
      "memory usage: 95.8+ KB\n"
     ]
    }
   ],
   "source": [
    "df.info()"
   ]
  },
  {
   "cell_type": "code",
   "execution_count": 16,
   "metadata": {},
   "outputs": [],
   "source": [
    "# Filtering the data    \n",
    "df_f = df[(df['Rating'] > 3.9) & (df['User Rating Count'] > 100)]"
   ]
  },
  {
   "cell_type": "code",
   "execution_count": 17,
   "metadata": {},
   "outputs": [
    {
     "name": "stdout",
     "output_type": "stream",
     "text": [
      "<class 'pandas.core.frame.DataFrame'>\n",
      "Index: 1305 entries, 0 to 1530\n",
      "Data columns (total 8 columns):\n",
      " #   Column             Non-Null Count  Dtype  \n",
      "---  ------             --------------  -----  \n",
      " 0   City               1305 non-null   object \n",
      " 1   Where to eat       1305 non-null   object \n",
      " 2   Address            1305 non-null   object \n",
      " 3   Latitude           1305 non-null   float64\n",
      " 4   Longitude          1305 non-null   float64\n",
      " 5   Rating             1305 non-null   float64\n",
      " 6   User Rating Count  1305 non-null   int64  \n",
      " 7   Comments           1305 non-null   object \n",
      "dtypes: float64(3), int64(1), object(4)\n",
      "memory usage: 91.8+ KB\n"
     ]
    }
   ],
   "source": [
    "df_f.info()"
   ]
  },
  {
   "cell_type": "code",
   "execution_count": 18,
   "metadata": {},
   "outputs": [],
   "source": [
    "df_f = df_f.drop_duplicates(subset='Latitude')"
   ]
  },
  {
   "cell_type": "code",
   "execution_count": 19,
   "metadata": {},
   "outputs": [
    {
     "name": "stdout",
     "output_type": "stream",
     "text": [
      "<class 'pandas.core.frame.DataFrame'>\n",
      "Index: 907 entries, 0 to 1530\n",
      "Data columns (total 8 columns):\n",
      " #   Column             Non-Null Count  Dtype  \n",
      "---  ------             --------------  -----  \n",
      " 0   City               907 non-null    object \n",
      " 1   Where to eat       907 non-null    object \n",
      " 2   Address            907 non-null    object \n",
      " 3   Latitude           907 non-null    float64\n",
      " 4   Longitude          907 non-null    float64\n",
      " 5   Rating             907 non-null    float64\n",
      " 6   User Rating Count  907 non-null    int64  \n",
      " 7   Comments           907 non-null    object \n",
      "dtypes: float64(3), int64(1), object(4)\n",
      "memory usage: 63.8+ KB\n"
     ]
    }
   ],
   "source": [
    "df_f.info()"
   ]
  },
  {
   "cell_type": "markdown",
   "metadata": {},
   "source": [
    "## NODE Where to eat"
   ]
  },
  {
   "cell_type": "code",
   "execution_count": 21,
   "metadata": {},
   "outputs": [],
   "source": [
    "df_f.to_csv(r'neo4j\\nodes\\node_where_to_eat.csv', index=False, encoding='utf-8')"
   ]
  },
  {
   "cell_type": "code",
   "execution_count": 22,
   "metadata": {},
   "outputs": [],
   "source": [
    "df_r = df_f[['Where to eat', 'City']].copy()"
   ]
  },
  {
   "cell_type": "code",
   "execution_count": 23,
   "metadata": {},
   "outputs": [],
   "source": [
    "df_r.to_csv(r'neo4j\\relationships\\relationship_where_to_eat.csv', index=False, encoding='utf-8')    "
   ]
  },
  {
   "cell_type": "code",
   "execution_count": null,
   "metadata": {},
   "outputs": [],
   "source": []
  }
 ],
 "metadata": {
  "kernelspec": {
   "display_name": "Elec_K-KP2SRN86",
   "language": "python",
   "name": "python3"
  },
  "language_info": {
   "codemirror_mode": {
    "name": "ipython",
    "version": 3
   },
   "file_extension": ".py",
   "mimetype": "text/x-python",
   "name": "python",
   "nbconvert_exporter": "python",
   "pygments_lexer": "ipython3",
   "version": "3.11.9"
  }
 },
 "nbformat": 4,
 "nbformat_minor": 2
}
