{
 "cells": [
  {
   "cell_type": "code",
   "execution_count": 1,
   "metadata": {},
   "outputs": [],
   "source": [
    "import pandas as pd\n",
    "import re"
   ]
  },
  {
   "cell_type": "code",
   "execution_count": 2,
   "metadata": {},
   "outputs": [],
   "source": [
    "data = pd.read_json(r'tests\\data.json')"
   ]
  },
  {
   "cell_type": "code",
   "execution_count": 3,
   "metadata": {},
   "outputs": [
    {
     "data": {
      "text/html": [
       "<div>\n",
       "<style scoped>\n",
       "    .dataframe tbody tr th:only-of-type {\n",
       "        vertical-align: middle;\n",
       "    }\n",
       "\n",
       "    .dataframe tbody tr th {\n",
       "        vertical-align: top;\n",
       "    }\n",
       "\n",
       "    .dataframe thead th {\n",
       "        text-align: right;\n",
       "    }\n",
       "</style>\n",
       "<table border=\"1\" class=\"dataframe\">\n",
       "  <thead>\n",
       "    <tr style=\"text-align: right;\">\n",
       "      <th></th>\n",
       "      <th>city</th>\n",
       "      <th>content</th>\n",
       "    </tr>\n",
       "  </thead>\n",
       "  <tbody>\n",
       "    <tr>\n",
       "      <th>0</th>\n",
       "      <td>Altamonte-Springs</td>\n",
       "      <td>Only 15 minutes north of downtown Orlando , 30...</td>\n",
       "    </tr>\n",
       "    <tr>\n",
       "      <th>1</th>\n",
       "      <td>Apopka</td>\n",
       "      <td>The city of Apopka , situated about 25 minutes...</td>\n",
       "    </tr>\n",
       "  </tbody>\n",
       "</table>\n",
       "</div>"
      ],
      "text/plain": [
       "                city                                            content\n",
       "0  Altamonte-Springs  Only 15 minutes north of downtown Orlando , 30...\n",
       "1             Apopka  The city of Apopka , situated about 25 minutes..."
      ]
     },
     "execution_count": 3,
     "metadata": {},
     "output_type": "execute_result"
    }
   ],
   "source": [
    "data.head(2)"
   ]
  },
  {
   "cell_type": "code",
   "execution_count": 4,
   "metadata": {},
   "outputs": [],
   "source": [
    "df = data.copy()"
   ]
  },
  {
   "cell_type": "code",
   "execution_count": 5,
   "metadata": {},
   "outputs": [],
   "source": [
    "df['city'] = df['city'].apply(lambda x: re.sub('-', ' ', str(x)))"
   ]
  },
  {
   "cell_type": "code",
   "execution_count": 6,
   "metadata": {},
   "outputs": [
    {
     "data": {
      "text/html": [
       "<div>\n",
       "<style scoped>\n",
       "    .dataframe tbody tr th:only-of-type {\n",
       "        vertical-align: middle;\n",
       "    }\n",
       "\n",
       "    .dataframe tbody tr th {\n",
       "        vertical-align: top;\n",
       "    }\n",
       "\n",
       "    .dataframe thead th {\n",
       "        text-align: right;\n",
       "    }\n",
       "</style>\n",
       "<table border=\"1\" class=\"dataframe\">\n",
       "  <thead>\n",
       "    <tr style=\"text-align: right;\">\n",
       "      <th></th>\n",
       "      <th>city</th>\n",
       "      <th>content</th>\n",
       "    </tr>\n",
       "  </thead>\n",
       "  <tbody>\n",
       "    <tr>\n",
       "      <th>0</th>\n",
       "      <td>Altamonte Springs</td>\n",
       "      <td>Only 15 minutes north of downtown Orlando , 30...</td>\n",
       "    </tr>\n",
       "    <tr>\n",
       "      <th>1</th>\n",
       "      <td>Apopka</td>\n",
       "      <td>The city of Apopka , situated about 25 minutes...</td>\n",
       "    </tr>\n",
       "    <tr>\n",
       "      <th>2</th>\n",
       "      <td>Bartow</td>\n",
       "      <td>Aptly nicknamed the “City of Oaks and Azaleas,...</td>\n",
       "    </tr>\n",
       "    <tr>\n",
       "      <th>3</th>\n",
       "      <td>Celebration</td>\n",
       "      <td>The picture-perfect community of Celebration ,...</td>\n",
       "    </tr>\n",
       "    <tr>\n",
       "      <th>4</th>\n",
       "      <td>Clermont</td>\n",
       "      <td>Just 35 minutes west of Orlando , the Lake Cou...</td>\n",
       "    </tr>\n",
       "    <tr>\n",
       "      <th>5</th>\n",
       "      <td>Dunnellon</td>\n",
       "      <td>Situated along some of Florida’s most beloved ...</td>\n",
       "    </tr>\n",
       "    <tr>\n",
       "      <th>6</th>\n",
       "      <td>Eatonville</td>\n",
       "      <td>Known as the childhood home of renowned Harlem...</td>\n",
       "    </tr>\n",
       "    <tr>\n",
       "      <th>7</th>\n",
       "      <td>Kissimmee</td>\n",
       "      <td>A trip to Kissimmee , just 25 minutes southwes...</td>\n",
       "    </tr>\n",
       "    <tr>\n",
       "      <th>8</th>\n",
       "      <td>Lake Buena Vista</td>\n",
       "      <td>The three-square mile city of Lake Buena Vista...</td>\n",
       "    </tr>\n",
       "    <tr>\n",
       "      <th>9</th>\n",
       "      <td>Lake Mary</td>\n",
       "      <td>Only 18 miles north of Orlando , the peaceful ...</td>\n",
       "    </tr>\n",
       "  </tbody>\n",
       "</table>\n",
       "</div>"
      ],
      "text/plain": [
       "                city                                            content\n",
       "0  Altamonte Springs  Only 15 minutes north of downtown Orlando , 30...\n",
       "1             Apopka  The city of Apopka , situated about 25 minutes...\n",
       "2             Bartow  Aptly nicknamed the “City of Oaks and Azaleas,...\n",
       "3        Celebration  The picture-perfect community of Celebration ,...\n",
       "4           Clermont  Just 35 minutes west of Orlando , the Lake Cou...\n",
       "5          Dunnellon  Situated along some of Florida’s most beloved ...\n",
       "6         Eatonville  Known as the childhood home of renowned Harlem...\n",
       "7          Kissimmee  A trip to Kissimmee , just 25 minutes southwes...\n",
       "8   Lake Buena Vista  The three-square mile city of Lake Buena Vista...\n",
       "9          Lake Mary  Only 18 miles north of Orlando , the peaceful ..."
      ]
     },
     "execution_count": 6,
     "metadata": {},
     "output_type": "execute_result"
    }
   ],
   "source": [
    "df.head(10)"
   ]
  },
  {
   "cell_type": "markdown",
   "metadata": {},
   "source": [
    "## Adding location coordenates"
   ]
  },
  {
   "cell_type": "code",
   "execution_count": 7,
   "metadata": {},
   "outputs": [],
   "source": [
    "from geopy.geocoders import Nominatim   # Nominatim is a tool to convert address into latitude and longitude"
   ]
  },
  {
   "cell_type": "code",
   "execution_count": 8,
   "metadata": {},
   "outputs": [],
   "source": [
    "geolocator = Nominatim(user_agent=\"my_geocoder\")"
   ]
  },
  {
   "cell_type": "code",
   "execution_count": 9,
   "metadata": {},
   "outputs": [],
   "source": [
    "def get_lat_long(city):\n",
    "    try:\n",
    "        location = geolocator.geocode(f\"{city}, Florida, USA\")\n",
    "        return location.latitude, location.longitude\n",
    "    except:\n",
    "        return None, None\n"
   ]
  },
  {
   "cell_type": "code",
   "execution_count": 10,
   "metadata": {},
   "outputs": [
    {
     "data": {
      "text/html": [
       "<div>\n",
       "<style scoped>\n",
       "    .dataframe tbody tr th:only-of-type {\n",
       "        vertical-align: middle;\n",
       "    }\n",
       "\n",
       "    .dataframe tbody tr th {\n",
       "        vertical-align: top;\n",
       "    }\n",
       "\n",
       "    .dataframe thead th {\n",
       "        text-align: right;\n",
       "    }\n",
       "</style>\n",
       "<table border=\"1\" class=\"dataframe\">\n",
       "  <thead>\n",
       "    <tr style=\"text-align: right;\">\n",
       "      <th></th>\n",
       "      <th>city</th>\n",
       "      <th>content</th>\n",
       "      <th>latitud</th>\n",
       "      <th>longitud</th>\n",
       "    </tr>\n",
       "  </thead>\n",
       "  <tbody>\n",
       "    <tr>\n",
       "      <th>0</th>\n",
       "      <td>Altamonte Springs</td>\n",
       "      <td>Only 15 minutes north of downtown Orlando , 30...</td>\n",
       "      <td>28.661915</td>\n",
       "      <td>-81.388590</td>\n",
       "    </tr>\n",
       "    <tr>\n",
       "      <th>1</th>\n",
       "      <td>Apopka</td>\n",
       "      <td>The city of Apopka , situated about 25 minutes...</td>\n",
       "      <td>28.673281</td>\n",
       "      <td>-81.511647</td>\n",
       "    </tr>\n",
       "    <tr>\n",
       "      <th>2</th>\n",
       "      <td>Bartow</td>\n",
       "      <td>Aptly nicknamed the “City of Oaks and Azaleas,...</td>\n",
       "      <td>27.896379</td>\n",
       "      <td>-81.843157</td>\n",
       "    </tr>\n",
       "    <tr>\n",
       "      <th>3</th>\n",
       "      <td>Celebration</td>\n",
       "      <td>The picture-perfect community of Celebration ,...</td>\n",
       "      <td>28.319057</td>\n",
       "      <td>-81.540870</td>\n",
       "    </tr>\n",
       "    <tr>\n",
       "      <th>4</th>\n",
       "      <td>Clermont</td>\n",
       "      <td>Just 35 minutes west of Orlando , the Lake Cou...</td>\n",
       "      <td>28.555191</td>\n",
       "      <td>-81.766949</td>\n",
       "    </tr>\n",
       "  </tbody>\n",
       "</table>\n",
       "</div>"
      ],
      "text/plain": [
       "                city                                            content  \\\n",
       "0  Altamonte Springs  Only 15 minutes north of downtown Orlando , 30...   \n",
       "1             Apopka  The city of Apopka , situated about 25 minutes...   \n",
       "2             Bartow  Aptly nicknamed the “City of Oaks and Azaleas,...   \n",
       "3        Celebration  The picture-perfect community of Celebration ,...   \n",
       "4           Clermont  Just 35 minutes west of Orlando , the Lake Cou...   \n",
       "\n",
       "     latitud   longitud  \n",
       "0  28.661915 -81.388590  \n",
       "1  28.673281 -81.511647  \n",
       "2  27.896379 -81.843157  \n",
       "3  28.319057 -81.540870  \n",
       "4  28.555191 -81.766949  "
      ]
     },
     "execution_count": 10,
     "metadata": {},
     "output_type": "execute_result"
    }
   ],
   "source": [
    "df['latitud'], df['longitud'] = zip(*df['city'].apply(get_lat_long))  # zip(*df['city'].apply(get_lat_long)) is used to unpack the tuple\n",
    "df.head()"
   ]
  },
  {
   "cell_type": "code",
   "execution_count": 11,
   "metadata": {},
   "outputs": [
    {
     "data": {
      "text/plain": [
       "\"Just 35 minutes west of Orlando , the Lake County city of Clermont is the place to go for all kinds of outdoor adventures, family-friendly attractions, and a pedestrian- and bike-friendly downtown brimming with restaurants, shops, parks, and festivals on the waterfront. Nicknamed “Choice of Champions,” and known as a training grounds for professional and Olympic athletes, Clermont is home to the state-of-the-art National Training Center , and the Great Florida Triathlon , which draws athletes from all over the world, is held at Waterfront Park on the shores of Lake Minneola. Clermont, a designated Trail Town , is also where outdoor enthusiasts can find everything from boating, fishing, and paddling on the Clermont Chain of Lakes to glamping and camping at Lake Louisa State Park . The Citrus Tower is a Central Florida landmark that affords visitors a bird's-eye view of Clermont’s rolling landscape, and Presidents Hall of Fame is a truly unique roadside attraction featuring replicas of the White House and Mount Rushmore. Local farms, including Blueberry Hill Farm and Southern Hill Farms , offer U-pick activities and more kid-friendly fun. Showcase of Citrus is a must-see, with monster truck tours , gem mining , and a farm store and market that sells hand-crafted items, fruit wine, and small-batch sauces. More family recreation can be found downtown at parks such as Victory Pointe and Waterfront Park, where many of the community’s festivals take place, and the city’s trails make it easy to explore on foot or by bike. An array of shopping and dining choices can be found in downtown Clermont. The Southern on 8th offers brunch, weekly live music, and delectable Southern dishes, and visitors can grab a bite from three eateries inside Suncreek Brewery , just off the South Lake Trail and Lake Minneola, to enjoy alongside one of their craft beers. North of town, the remodeled Lake Minneola Inn on the eastern shore of Lake Minneola feels like something out of Key West, and visitors can enjoy drinks and award-winning burgers al fresco at its Tiki Bar & Grill . Plan your trip at Discover Lake County . WATERWAYS Clermont is home to a number of lakes and waterways. Lake Minneola Lake Minnehaha Lake Louisa Palatlakaha River Clermont Chain of Lakes More lakes and waterways FAMILY FUN Visit local farms and attractions for kid-friendly fun. Showcase of Citrus Citrus Tower Presidents Hall of Fame Southern Hill Farms Kid Zone Blueberry Hill Farm Champions Splash Park Palatlakaha Park MUSEUMS, ARTS & ENTERTAINMENT Learn about the city’s history and check out special events. Clermont Historic Village South Lake Art League Events OUTDOOR ADVENTURES Explore the parks and preserves. Lake Louisa State Park Lake Hiawatha Preserve Florida Coast to Coast Trail South Lake Trail Birding Fishing Paddling Blueways Hiking DINING Discover the unique flavors of Clermont’s restaurants and breweries. The Crooked Spoon Southern on 8th Root & Branch Bistro + Bar Guru Restaurant Suncreek Brewery Clermont Brewing Company Lakeridge Winery Lake Minneola Inn Tiki Bar & Grill Montrose Street Market Downtown dining More places to eat SHOPPING Shop the boutiques of downtown Clermont. Downtown Clermont shopping More places to shop SPORTS See why Clermont is known as the “Choice of Champions.” National Training Center Clermont National Golf Course Kings Ridge Golf Club More sports PLACES TO STAY Stay at a charming bed and breakfast, comfortable hotel, or scenic campground. Lake Minneola Inn Hampton Inn & Suites Clermont Fairfield Inn & Suites Clermont Lake Louisa State Park Thousand Trails Orlando Family fun at Showcase of Citrus\""
      ]
     },
     "execution_count": 11,
     "metadata": {},
     "output_type": "execute_result"
    }
   ],
   "source": [
    "df['content'][4]"
   ]
  },
  {
   "cell_type": "code",
   "execution_count": 12,
   "metadata": {},
   "outputs": [],
   "source": [
    "def extract_uppercase_words(text):\n",
    "    # Encontrar el índice inicial del texto a extraer\n",
    "    indice_inicio = text.find('Plan your trip') + len('Plan your trip')\n",
    "    texto_extraido = text[indice_inicio:] \n",
    "    pattern = r'\\b[A-Z][A-Z ,&]+\\b'\n",
    "    matches = re.findall(pattern, texto_extraido)\n",
    "    return matches"
   ]
  },
  {
   "cell_type": "code",
   "execution_count": 13,
   "metadata": {},
   "outputs": [],
   "source": [
    "#Things to do collumn\n",
    "df['things_to_do'] = df['content'].apply(extract_uppercase_words)"
   ]
  },
  {
   "cell_type": "code",
   "execution_count": 14,
   "metadata": {},
   "outputs": [
    {
     "data": {
      "text/html": [
       "<div>\n",
       "<style scoped>\n",
       "    .dataframe tbody tr th:only-of-type {\n",
       "        vertical-align: middle;\n",
       "    }\n",
       "\n",
       "    .dataframe tbody tr th {\n",
       "        vertical-align: top;\n",
       "    }\n",
       "\n",
       "    .dataframe thead th {\n",
       "        text-align: right;\n",
       "    }\n",
       "</style>\n",
       "<table border=\"1\" class=\"dataframe\">\n",
       "  <thead>\n",
       "    <tr style=\"text-align: right;\">\n",
       "      <th></th>\n",
       "      <th>city</th>\n",
       "      <th>content</th>\n",
       "      <th>latitud</th>\n",
       "      <th>longitud</th>\n",
       "      <th>things_to_do</th>\n",
       "    </tr>\n",
       "  </thead>\n",
       "  <tbody>\n",
       "    <tr>\n",
       "      <th>22</th>\n",
       "      <td>Wauchula</td>\n",
       "      <td>Wauchula , roughly 50 miles east of Bradenton ...</td>\n",
       "      <td>27.547259</td>\n",
       "      <td>-81.811471</td>\n",
       "      <td>[WATERWAYS , FAMILY FUN , CULTURE &amp; HISTORY , ...</td>\n",
       "    </tr>\n",
       "    <tr>\n",
       "      <th>23</th>\n",
       "      <td>Wildwood</td>\n",
       "      <td>Wildwood , located 50 miles northwest of Orlan...</td>\n",
       "      <td>28.865286</td>\n",
       "      <td>-82.039429</td>\n",
       "      <td>[WATERWAYS , ARTS &amp; ENTERTAINMENT , OUTDOOR AD...</td>\n",
       "    </tr>\n",
       "    <tr>\n",
       "      <th>24</th>\n",
       "      <td>Winter Garden</td>\n",
       "      <td>Winter Garden , just 30 minutes west of downto...</td>\n",
       "      <td>28.565665</td>\n",
       "      <td>-81.585674</td>\n",
       "      <td>[FAMILY FUN , MUSEUMS, ARTS &amp; ENTERTAINMENT , ...</td>\n",
       "    </tr>\n",
       "    <tr>\n",
       "      <th>25</th>\n",
       "      <td>Winter Haven</td>\n",
       "      <td>Winter Haven , situated an hour southwest of O...</td>\n",
       "      <td>28.022243</td>\n",
       "      <td>-81.732857</td>\n",
       "      <td>[FAMILY FUN , LEGOLAND , MUSEUMS, ARTS &amp; ENTER...</td>\n",
       "    </tr>\n",
       "    <tr>\n",
       "      <th>26</th>\n",
       "      <td>Winter Park</td>\n",
       "      <td>Situated just north of Orlando , Winter Park i...</td>\n",
       "      <td>28.597771</td>\n",
       "      <td>-81.351026</td>\n",
       "      <td>[FAMILY FUN , MUSEUMS, ARTS &amp; ENTERTAINMENT , ...</td>\n",
       "    </tr>\n",
       "  </tbody>\n",
       "</table>\n",
       "</div>"
      ],
      "text/plain": [
       "             city                                            content  \\\n",
       "22       Wauchula  Wauchula , roughly 50 miles east of Bradenton ...   \n",
       "23       Wildwood  Wildwood , located 50 miles northwest of Orlan...   \n",
       "24  Winter Garden  Winter Garden , just 30 minutes west of downto...   \n",
       "25   Winter Haven  Winter Haven , situated an hour southwest of O...   \n",
       "26    Winter Park  Situated just north of Orlando , Winter Park i...   \n",
       "\n",
       "      latitud   longitud                                       things_to_do  \n",
       "22  27.547259 -81.811471  [WATERWAYS , FAMILY FUN , CULTURE & HISTORY , ...  \n",
       "23  28.865286 -82.039429  [WATERWAYS , ARTS & ENTERTAINMENT , OUTDOOR AD...  \n",
       "24  28.565665 -81.585674  [FAMILY FUN , MUSEUMS, ARTS & ENTERTAINMENT , ...  \n",
       "25  28.022243 -81.732857  [FAMILY FUN , LEGOLAND , MUSEUMS, ARTS & ENTER...  \n",
       "26  28.597771 -81.351026  [FAMILY FUN , MUSEUMS, ARTS & ENTERTAINMENT , ...  "
      ]
     },
     "execution_count": 14,
     "metadata": {},
     "output_type": "execute_result"
    }
   ],
   "source": [
    "df.tail()"
   ]
  },
  {
   "cell_type": "code",
   "execution_count": 15,
   "metadata": {},
   "outputs": [],
   "source": [
    "def crear_diccionarios(lista_palabras, texto):\n",
    "    \"\"\"\n",
    "    Crea una lista de diccionarios a partir de una lista de palabras clave y un texto.\n",
    "\n",
    "    Args:\n",
    "        lista_palabras: Una lista de palabras clave.\n",
    "        texto: El texto completo.\n",
    "\n",
    "    Returns:\n",
    "        Una lista de diccionarios, donde cada diccionario contiene una palabra clave y el texto asociado.\n",
    "    \"\"\"\n",
    "\n",
    "    diccionarios = []\n",
    "    for palabra in lista_palabras:\n",
    "        # Patrón para buscar la palabra clave seguida de cualquier texto hasta la siguiente letra mayúscula o el final de la cadena\n",
    "        pattern = rf\"{palabra}(.*?)(?=[A-Z][A-Z]|$)\"\n",
    "        match = re.search(pattern, texto)\n",
    "        if match:\n",
    "            diccionarios.append({palabra: match.group(1).strip()})\n",
    "    return diccionarios"
   ]
  },
  {
   "cell_type": "code",
   "execution_count": 16,
   "metadata": {},
   "outputs": [],
   "source": [
    "df['t_d'] = df.apply(lambda row: crear_diccionarios(row['things_to_do'], row['content']), axis=1)\n"
   ]
  },
  {
   "cell_type": "code",
   "execution_count": 17,
   "metadata": {},
   "outputs": [
    {
     "data": {
      "text/plain": [
       "0     [{'FAMILY FUN ': 'Visit the area’s kid-friendl...\n",
       "1     [{'WATERWAYS ': 'Explore the area’s waterways....\n",
       "2     [{'WATERWAYS ': 'The famed Peace River begins ...\n",
       "3     [{'FAMILY FUN ': 'Ride bikes by the water, str...\n",
       "4     [{'WATERWAYS ': 'Clermont is home to a number ...\n",
       "5     [{'WATERWAYS ': 'Swim, paddle, and explore the...\n",
       "6     [{'MUSEUMS, ARTS & ENTERTAINMENT ': 'Learn abo...\n",
       "7     [{'FAMILY FUN ': 'Explore the theme parks and ...\n",
       "8     [{'THEME PARKS ': 'The area’s theme parks are ...\n",
       "9     [{'FAMILY FUN ': 'Visit kid-friendly attractio...\n",
       "10    [{'FAMILY FUN ': 'Spend time outside and check...\n",
       "11    [{'WATERWAYS ': 'Fish, boat, and paddle on the...\n",
       "12    [{'FAMILY FUN ': 'Visit the children’s museum,...\n",
       "13    [{'WATERWAYS ': 'Take a guided eco-tour or pad...\n",
       "14    [{'FAMILY FUN ': 'See wild manatees, swim in t...\n",
       "15    [{'THEME PARKS ': 'Florida is epicenter of the...\n",
       "16    [{'FL': '.'}, {'WATERWAYS ': 'Fish, boat, and ...\n",
       "17    [{'FAMILY FUN ': 'Check out family-friendly at...\n",
       "18    [{'LAKES ': 'The area’s lakes offer some of th...\n",
       "19    [{'WATERWAYS ': 'Enjoy world-class bass fishin...\n",
       "20    [{'WATERWAYS ': 'Experience the lakes and wate...\n",
       "21    [{'WATERWAYS ': 'Explore springs, rivers, and ...\n",
       "22    [{'WATERWAYS ': 'Paddle Florida’s famed Peace ...\n",
       "23    [{'WATERWAYS ': 'Fish, boat, and paddle the la...\n",
       "24    [{'FAMILY FUN ': 'Go for a family bike ride an...\n",
       "25    [{'FAMILY FUN ': 'Visit kid-friendly theme par...\n",
       "26    [{'FAMILY FUN ': 'Go for a scenic boat tour, v...\n",
       "Name: t_d, dtype: object"
      ]
     },
     "execution_count": 17,
     "metadata": {},
     "output_type": "execute_result"
    }
   ],
   "source": [
    "df['t_d']"
   ]
  },
  {
   "cell_type": "code",
   "execution_count": 18,
   "metadata": {},
   "outputs": [
    {
     "data": {
      "text/html": [
       "<div>\n",
       "<style scoped>\n",
       "    .dataframe tbody tr th:only-of-type {\n",
       "        vertical-align: middle;\n",
       "    }\n",
       "\n",
       "    .dataframe tbody tr th {\n",
       "        vertical-align: top;\n",
       "    }\n",
       "\n",
       "    .dataframe thead th {\n",
       "        text-align: right;\n",
       "    }\n",
       "</style>\n",
       "<table border=\"1\" class=\"dataframe\">\n",
       "  <thead>\n",
       "    <tr style=\"text-align: right;\">\n",
       "      <th></th>\n",
       "      <th>city</th>\n",
       "      <th>content</th>\n",
       "      <th>latitud</th>\n",
       "      <th>longitud</th>\n",
       "      <th>things_to_do</th>\n",
       "      <th>t_d</th>\n",
       "    </tr>\n",
       "  </thead>\n",
       "  <tbody>\n",
       "    <tr>\n",
       "      <th>0</th>\n",
       "      <td>Altamonte Springs</td>\n",
       "      <td>Only 15 minutes north of downtown Orlando , 30...</td>\n",
       "      <td>28.661915</td>\n",
       "      <td>-81.388590</td>\n",
       "      <td>[FAMILY FUN , MUSEUMS, ARTS &amp; ENTERTAINMENT , ...</td>\n",
       "      <td>[{'FAMILY FUN ': 'Visit the area’s kid-friendl...</td>\n",
       "    </tr>\n",
       "    <tr>\n",
       "      <th>1</th>\n",
       "      <td>Apopka</td>\n",
       "      <td>The city of Apopka , situated about 25 minutes...</td>\n",
       "      <td>28.673281</td>\n",
       "      <td>-81.511647</td>\n",
       "      <td>[WATERWAYS , FAMILY FUN , MUSEUMS, ARTS &amp; ENTE...</td>\n",
       "      <td>[{'WATERWAYS ': 'Explore the area’s waterways....</td>\n",
       "    </tr>\n",
       "    <tr>\n",
       "      <th>2</th>\n",
       "      <td>Bartow</td>\n",
       "      <td>Aptly nicknamed the “City of Oaks and Azaleas,...</td>\n",
       "      <td>27.896379</td>\n",
       "      <td>-81.843157</td>\n",
       "      <td>[WATERWAYS , MUSEUMS, ARTS &amp; ENTERTAINMENT , O...</td>\n",
       "      <td>[{'WATERWAYS ': 'The famed Peace River begins ...</td>\n",
       "    </tr>\n",
       "    <tr>\n",
       "      <th>3</th>\n",
       "      <td>Celebration</td>\n",
       "      <td>The picture-perfect community of Celebration ,...</td>\n",
       "      <td>28.319057</td>\n",
       "      <td>-81.540870</td>\n",
       "      <td>[FAMILY FUN , ENTERTAINMENT , OUTDOOR ADVENTUR...</td>\n",
       "      <td>[{'FAMILY FUN ': 'Ride bikes by the water, str...</td>\n",
       "    </tr>\n",
       "    <tr>\n",
       "      <th>4</th>\n",
       "      <td>Clermont</td>\n",
       "      <td>Just 35 minutes west of Orlando , the Lake Cou...</td>\n",
       "      <td>28.555191</td>\n",
       "      <td>-81.766949</td>\n",
       "      <td>[WATERWAYS , FAMILY FUN , MUSEUMS, ARTS &amp; ENTE...</td>\n",
       "      <td>[{'WATERWAYS ': 'Clermont is home to a number ...</td>\n",
       "    </tr>\n",
       "  </tbody>\n",
       "</table>\n",
       "</div>"
      ],
      "text/plain": [
       "                city                                            content  \\\n",
       "0  Altamonte Springs  Only 15 minutes north of downtown Orlando , 30...   \n",
       "1             Apopka  The city of Apopka , situated about 25 minutes...   \n",
       "2             Bartow  Aptly nicknamed the “City of Oaks and Azaleas,...   \n",
       "3        Celebration  The picture-perfect community of Celebration ,...   \n",
       "4           Clermont  Just 35 minutes west of Orlando , the Lake Cou...   \n",
       "\n",
       "     latitud   longitud                                       things_to_do  \\\n",
       "0  28.661915 -81.388590  [FAMILY FUN , MUSEUMS, ARTS & ENTERTAINMENT , ...   \n",
       "1  28.673281 -81.511647  [WATERWAYS , FAMILY FUN , MUSEUMS, ARTS & ENTE...   \n",
       "2  27.896379 -81.843157  [WATERWAYS , MUSEUMS, ARTS & ENTERTAINMENT , O...   \n",
       "3  28.319057 -81.540870  [FAMILY FUN , ENTERTAINMENT , OUTDOOR ADVENTUR...   \n",
       "4  28.555191 -81.766949  [WATERWAYS , FAMILY FUN , MUSEUMS, ARTS & ENTE...   \n",
       "\n",
       "                                                 t_d  \n",
       "0  [{'FAMILY FUN ': 'Visit the area’s kid-friendl...  \n",
       "1  [{'WATERWAYS ': 'Explore the area’s waterways....  \n",
       "2  [{'WATERWAYS ': 'The famed Peace River begins ...  \n",
       "3  [{'FAMILY FUN ': 'Ride bikes by the water, str...  \n",
       "4  [{'WATERWAYS ': 'Clermont is home to a number ...  "
      ]
     },
     "execution_count": 18,
     "metadata": {},
     "output_type": "execute_result"
    }
   ],
   "source": [
    "df.head()"
   ]
  },
  {
   "cell_type": "code",
   "execution_count": 19,
   "metadata": {},
   "outputs": [],
   "source": [
    "df_activities = df.explode('t_d').reset_index(drop=True)"
   ]
  },
  {
   "cell_type": "code",
   "execution_count": 21,
   "metadata": {},
   "outputs": [],
   "source": [
    "df_activities = df_activities[['city', 't_d']]\n"
   ]
  },
  {
   "cell_type": "code",
   "execution_count": 22,
   "metadata": {},
   "outputs": [
    {
     "data": {
      "text/html": [
       "<div>\n",
       "<style scoped>\n",
       "    .dataframe tbody tr th:only-of-type {\n",
       "        vertical-align: middle;\n",
       "    }\n",
       "\n",
       "    .dataframe tbody tr th {\n",
       "        vertical-align: top;\n",
       "    }\n",
       "\n",
       "    .dataframe thead th {\n",
       "        text-align: right;\n",
       "    }\n",
       "</style>\n",
       "<table border=\"1\" class=\"dataframe\">\n",
       "  <thead>\n",
       "    <tr style=\"text-align: right;\">\n",
       "      <th></th>\n",
       "      <th>city</th>\n",
       "      <th>t_d</th>\n",
       "    </tr>\n",
       "  </thead>\n",
       "  <tbody>\n",
       "    <tr>\n",
       "      <th>0</th>\n",
       "      <td>Altamonte Springs</td>\n",
       "      <td>{'FAMILY FUN ': 'Visit the area’s kid-friendly...</td>\n",
       "    </tr>\n",
       "    <tr>\n",
       "      <th>1</th>\n",
       "      <td>Altamonte Springs</td>\n",
       "      <td>{'MUSEUMS, ARTS &amp; ENTERTAINMENT ': 'Discover O...</td>\n",
       "    </tr>\n",
       "    <tr>\n",
       "      <th>2</th>\n",
       "      <td>Altamonte Springs</td>\n",
       "      <td>{'OUTDOOR ADVENTURES ': 'Explore the parks and...</td>\n",
       "    </tr>\n",
       "    <tr>\n",
       "      <th>3</th>\n",
       "      <td>Altamonte Springs</td>\n",
       "      <td>{'WATERWAYS ': 'Fish and paddle the waterways....</td>\n",
       "    </tr>\n",
       "    <tr>\n",
       "      <th>4</th>\n",
       "      <td>Altamonte Springs</td>\n",
       "      <td>{'BEACHES ': 'Take a trip to east coast beache...</td>\n",
       "    </tr>\n",
       "    <tr>\n",
       "      <th>...</th>\n",
       "      <td>...</td>\n",
       "      <td>...</td>\n",
       "    </tr>\n",
       "    <tr>\n",
       "      <th>296</th>\n",
       "      <td>Winter Park</td>\n",
       "      <td>{'SHOPPING ': 'Explore the upscale shops of tr...</td>\n",
       "    </tr>\n",
       "    <tr>\n",
       "      <th>297</th>\n",
       "      <td>Winter Park</td>\n",
       "      <td>{'PET': '-'}</td>\n",
       "    </tr>\n",
       "    <tr>\n",
       "      <th>298</th>\n",
       "      <td>Winter Park</td>\n",
       "      <td>{'FRIENDLY ADVENTURES ': 'Visit the pet-friend...</td>\n",
       "    </tr>\n",
       "    <tr>\n",
       "      <th>299</th>\n",
       "      <td>Winter Park</td>\n",
       "      <td>{'SPORTS ': 'Hit the links at the city’s 18-ho...</td>\n",
       "    </tr>\n",
       "    <tr>\n",
       "      <th>300</th>\n",
       "      <td>Winter Park</td>\n",
       "      <td>{'PLACES TO STAY ': 'Stay in Winter Park or ch...</td>\n",
       "    </tr>\n",
       "  </tbody>\n",
       "</table>\n",
       "<p>301 rows × 2 columns</p>\n",
       "</div>"
      ],
      "text/plain": [
       "                  city                                                t_d\n",
       "0    Altamonte Springs  {'FAMILY FUN ': 'Visit the area’s kid-friendly...\n",
       "1    Altamonte Springs  {'MUSEUMS, ARTS & ENTERTAINMENT ': 'Discover O...\n",
       "2    Altamonte Springs  {'OUTDOOR ADVENTURES ': 'Explore the parks and...\n",
       "3    Altamonte Springs  {'WATERWAYS ': 'Fish and paddle the waterways....\n",
       "4    Altamonte Springs  {'BEACHES ': 'Take a trip to east coast beache...\n",
       "..                 ...                                                ...\n",
       "296        Winter Park  {'SHOPPING ': 'Explore the upscale shops of tr...\n",
       "297        Winter Park                                       {'PET': '-'}\n",
       "298        Winter Park  {'FRIENDLY ADVENTURES ': 'Visit the pet-friend...\n",
       "299        Winter Park  {'SPORTS ': 'Hit the links at the city’s 18-ho...\n",
       "300        Winter Park  {'PLACES TO STAY ': 'Stay in Winter Park or ch...\n",
       "\n",
       "[301 rows x 2 columns]"
      ]
     },
     "execution_count": 22,
     "metadata": {},
     "output_type": "execute_result"
    }
   ],
   "source": [
    "df_activities"
   ]
  },
  {
   "cell_type": "code",
   "execution_count": 24,
   "metadata": {},
   "outputs": [],
   "source": [
    "df_activities.to_csv('activities.csv', index=False, encoding='utf-8')"
   ]
  },
  {
   "cell_type": "code",
   "execution_count": null,
   "metadata": {},
   "outputs": [],
   "source": []
  }
 ],
 "metadata": {
  "kernelspec": {
   "display_name": "Elec_K-KP2SRN86",
   "language": "python",
   "name": "python3"
  },
  "language_info": {
   "codemirror_mode": {
    "name": "ipython",
    "version": 3
   },
   "file_extension": ".py",
   "mimetype": "text/x-python",
   "name": "python",
   "nbconvert_exporter": "python",
   "pygments_lexer": "ipython3",
   "version": "3.11.7"
  }
 },
 "nbformat": 4,
 "nbformat_minor": 2
}
