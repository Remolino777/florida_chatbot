{
 "cells": [
  {
   "cell_type": "markdown",
   "metadata": {},
   "source": [
    "### Modules"
   ]
  },
  {
   "cell_type": "code",
   "execution_count": 1,
   "metadata": {},
   "outputs": [],
   "source": [
    "# Load the environment variables from the .env file\n",
    "import os\n",
    "from dotenv import load_dotenv\n",
    "\n",
    "# Define state variables in the chatbot\n",
    "from typing import Annotated, Literal\n",
    "from typing_extensions import TypedDict\n",
    "\n",
    "# Connect to the RAG database.\n",
    "from neo4j import GraphDatabase\n",
    "\n",
    "#Langgraph\n",
    "from langgraph.graph.message import add_messages\n",
    "\n",
    "# Chatbot logic\n",
    "from langgraph.graph import StateGraph, START, END\n",
    "from langchain_google_genai import ChatGoogleGenerativeAI\n",
    "# It can be helpful to visualise the graph you just defined. The following code renders the graph.\n",
    "from IPython.display import Image, display\n",
    "# Add the human node to the graph.\n",
    "from langchain_core.messages.ai import AIMessage\n",
    "\n",
    "# use to create the tool node in the graph\n",
    "from langchain_core.tools import tool\n"
   ]
  },
  {
   "cell_type": "markdown",
   "metadata": {},
   "source": [
    "### Itinerary details"
   ]
  },
  {
   "cell_type": "code",
   "execution_count": 2,
   "metadata": {},
   "outputs": [],
   "source": [
    "from typing import List, Optional, Dict, Any\n",
    "from langgraph.prebuilt import ToolNode\n"
   ]
  },
  {
   "cell_type": "code",
   "execution_count": 3,
   "metadata": {},
   "outputs": [],
   "source": [
    "class ItinerariState(TypedDict):\n",
    "    \"\"\"State representing the customer's order conversation.\"\"\"\n",
    "\n",
    "    # The chat conversation. This preserves the conversation history\n",
    "    # between nodes. The `add_messages` annotation indicates to LangGraph\n",
    "    # that state is updated by appending returned messages, not replacing\n",
    "    # them.\n",
    "    messages: Annotated[list, add_messages]\n",
    "\n",
    "    name: str  # Nombre del usuario o del viaje\n",
    "    trip_type: str  # Tipo de viaje (ej. \"aventura\", \"negocios\", \"familiar\")\n",
    "    trip_duration: str  # Duración del viaje (ej. \"5 días\", \"una semana\")\n",
    "    order: list  # Lista de acciones o pasos en el viaje\n",
    "    finished: bool  # Indica si el proceso ha finalizado"
   ]
  },
  {
   "cell_type": "code",
   "execution_count": 4,
   "metadata": {},
   "outputs": [],
   "source": [
    "GOOGLE_API_KEY = os.getenv('GOOGLE_API_KEY')"
   ]
  },
  {
   "cell_type": "markdown",
   "metadata": {},
   "source": [
    "## Conect to NEO4J Data base"
   ]
  },
  {
   "cell_type": "code",
   "execution_count": 5,
   "metadata": {},
   "outputs": [
    {
     "name": "stdout",
     "output_type": "stream",
     "text": [
      "r3mo gatoyote_1501\n"
     ]
    }
   ],
   "source": [
    "load_dotenv()\n",
    "\n",
    "# NEO$J Variables\n",
    "NEO4J_USER = os.getenv('NEO4J_USERNAME')\n",
    "NEO4J_PASSWORD = os.getenv('NEO4J_PASSWORD')\n",
    "NEO4J_AURA_URI = \"neo4j+s://469a219d.databases.neo4j.io\"\n",
    "AUTH = (NEO4J_USER, NEO4J_PASSWORD)\n",
    "\n",
    "print(NEO4J_USER, NEO4J_PASSWORD)"
   ]
  },
  {
   "cell_type": "code",
   "execution_count": 6,
   "metadata": {},
   "outputs": [
    {
     "name": "stdout",
     "output_type": "stream",
     "text": [
      "¡Conexión exitosa!\n",
      "Número de nodos en la base de datos: 2244\n"
     ]
    }
   ],
   "source": [
    "# Prueba la conexión\n",
    "try:\n",
    "    with GraphDatabase.driver(NEO4J_AURA_URI, auth=AUTH) as driver:\n",
    "        driver.verify_connectivity()\n",
    "        print(\"¡Conexión exitosa!\")\n",
    "        \n",
    "        # Opcional: hacer una consulta de prueba\n",
    "        with driver.session() as session:\n",
    "            result = session.run(\"MATCH (n) RETURN count(n) as count\")\n",
    "            count = result.single()[\"count\"]\n",
    "            print(f\"Número de nodos en la base de datos: {count}\")\n",
    "            \n",
    "except Exception as e:\n",
    "\n",
    "    print(f\"Error de conexión: {str(e)}\")"
   ]
  },
  {
   "cell_type": "code",
   "execution_count": 7,
   "metadata": {},
   "outputs": [],
   "source": [
    "# neo4j_driver creation\n",
    "neo4j_driver = GraphDatabase.driver(NEO4J_AURA_URI, auth=AUTH)"
   ]
  },
  {
   "cell_type": "markdown",
   "metadata": {},
   "source": [
    "## Basic instructions"
   ]
  },
  {
   "cell_type": "code",
   "execution_count": 8,
   "metadata": {},
   "outputs": [],
   "source": [
    "# The system instruction defines how the chatbot is expected to behave and includes\n",
    "# rules for when to call different functions, as well as rules for the conversation, such\n",
    "# as tone and what is permitted for discussion.\n",
    "TURISTBOT_SYSINT = (\n",
    "    \"system\",\n",
    "    \"\"\"You are TuristBot, an AI travel assistant specializing in crafting personalized itineraries for Central Florida. Your expertise covers the region's diverse attractions, from theme parks to natural wonders.\n",
    "\n",
    "Core Identity and Capabilities:\n",
    "- Primary Function: Create customized travel itineraries based on user preferences\n",
    "- Geographic Focus: Central Florida region\n",
    "- Specialization: Family Fun (with young children, with teenagers) and Adventure Outdoor experiences (hiking, water sports, wildlife viewing)\n",
    "- Knowledge Base: Theme parks, natural attractions, dining, local culture, and seasonal events\n",
    "\n",
    "Interaction Protocol:\n",
    "1. Initial Engagement:\n",
    "   - Introduce yourself warmly\n",
    "   - Collect essential information:\n",
    "     * Ask for user's name, Trip type preference (Family Fun or Adventure Outdoor), and duration\n",
    "     * Store the user's name for personalized interaction throughout the conversation      \n",
    "     * If the days of the itinerary are not specified, ask for the number of days in the itinerary     \n",
    "     * If the days are greater of 5, recommend to split the days in multiple cities.  \n",
    "     * Alway use a single city for the itinerary and recommend it to the user.   \n",
    "     * Ask for a city to visit or recommend a city from the list of the Florida central region recomendar_ciudades()     \n",
    "     * Ask if the user likes this cities or if they want to show other options recomendar_ciudades().\n",
    "          \n",
    "     * recomend places to stay in the city places_to_stay(city)\n",
    "     * Ask the user to select a place to stay from the list\n",
    "     * Confirm the selection and store the selected hotel    \n",
    "    - Once user provides city, trip type and place to stay, aks the user for confirmation.\n",
    "     * If the user confirm the information proceed to store the basic information and to itinerary planning\n",
    "     * If the user does not confirm, ask the user to provide the information again.\n",
    "     \n",
    "2. Itinerary Development Process:\n",
    "   - Generate a warming introduction with user's name and city destination for start exploring the diferent city tourist attractions.\n",
    "   - repite the following steps for each day of the itinerary:\n",
    "     * The day will be divided in 3 segments: morning, afternoon and night.\n",
    "     * Initialize the morning destiny with top city atractions = proponer_destinos(city, trip_type)   \n",
    "     * Allow user to select the atraction, correct for misspelling, ask to choose only the atractions from the list, and las aks for confirmation \n",
    "     * Once the user confirm the atraction = seleccionar_destino(destinos)\n",
    "     * Once the atraction is selected present the options for lunch = lunch_options(atraction)\n",
    "     * Allow user to select the lunch place = seleccionar_destino(lunch_options)\n",
    "     * Structure each day into segments:\n",
    "     * Once lunch is selected, present options for afternoon activities = proponer_destinos(city, trip_type, location)\n",
    "     * Near dinner location, end activities (2-3 options)     \n",
    "   - For each segment:\n",
    "     * Generate options using proponer_destinos(city, trip_type, location, time_of_day)\n",
    "     * Present choices with brief descriptions\n",
    "     * Allow user to select or request more\n",
    "     * Update using agregar_destino_a_itinerario(current_itinerary, selection, time_of_day)\n",
    "     * Repeat until the day's itinerary is complete    \n",
    "   - Once all days are planned, ask if user wants to make any changes \n",
    "   - Conclude with mostrar_itinerario_completo(current_itinerary)     \n",
    "     \n",
    "3. Specialized Features:\n",
    "   Family Fun Focus:\n",
    "   - Emphasize age-appropriate activities\n",
    "   - Include entertainment value and educational aspects\n",
    "   - Consider logistics (stroller access, rest areas, etc.)\n",
    "   \n",
    "   Adventure Outdoor Focus:\n",
    "   - Highlight physical activity levels\n",
    "   - Include nature preserves and water activities\n",
    "   - Provide weather considerations\n",
    "\n",
    "4. Conversation Management:\n",
    "   - Maintain context awareness of all user selections\n",
    "   - Confirm user choices before finalizing\n",
    "   - Offer suggestions based on user preferences\n",
    "   - If the user input is empty, ask for clarification\n",
    "   - Handle topic transitions gracefully\n",
    "   - Redirect off-topic queries with: \"I specialize in Central Florida tourism. Let me help you plan your perfect trip here!\"\n",
    "\n",
    "5. Response Guidelines:\n",
    "   Tone:\n",
    "   - Professional yet friendly\n",
    "   - Enthusiastic but not overwhelming\n",
    "   - Informative and concise\n",
    "   \n",
    "   Format:\n",
    "   - Structure responses clearly\n",
    "   - Use formatting for readability\n",
    "   - Include relevant details without overwhelming\n",
    "   \n",
    "   Language:\n",
    "   - Avoid jargon unless explaining terms\n",
    "   - Use descriptive but accessible vocabulary\n",
    "   - Maintain consistent formality level\n",
    "\n",
    "6. Error Handling:\n",
    "   - Gracefully manage unclear inputs\n",
    "   - Provide clear options when choices are invalid\n",
    "   - Maintain conversation flow during technical issues\n",
    "   - Fall back to base recommendations if specialized functions fail\n",
    "\n",
    "Remember: Your goal is to create memorable Florida experiences through personalized, well-planned itineraries!\n",
    "\n",
    "Function Reference:\n",
    "- recomendar_ciudades() -> List[Dict[str, str]]\n",
    "- places_to_stay(ciudad: str) -> List[Dict[str, str]]\n",
    "- obtener_itinerario_base(ciudad: str, tipo_itinerario: str) -> Dict\n",
    "- proponer_destinos(ciudad: str, tipo_itinerario: str, momento_del_dia: str) -> List[Dict]\n",
    "- agregar_destino_a_itinerario(itinerario_actual: Dict, destino: Dict, momento_del_dia: str) -> Dict\n",
    "- mostrar_itinerario_completo(itinerario_actual: Dict) -> str\"\"\"\n",
    ")\n",
    "\n",
    "# This is the message with which the system opens the conversation.\n",
    "WELCOME_MSG = \"Welcome to Central Florida! I can help you discover exciting attractions, find the best restaurants, and create a personalized itinerary. Tell me, are you ready for planning your trip?\""
   ]
  },
  {
   "cell_type": "markdown",
   "metadata": {},
   "source": [
    "## Functions"
   ]
  },
  {
   "cell_type": "code",
   "execution_count": 9,
   "metadata": {},
   "outputs": [],
   "source": [
    "llm = ChatGoogleGenerativeAI(model=\"gemini-1.5-flash-latest\")"
   ]
  },
  {
   "cell_type": "markdown",
   "metadata": {},
   "source": [
    "### Add the human node"
   ]
  },
  {
   "cell_type": "code",
   "execution_count": 10,
   "metadata": {},
   "outputs": [],
   "source": [
    "def human_node(state: ItinerariState) -> ItinerariState:\n",
    "    \"\"\"Display the last model message to the user, and receive the user's input.\"\"\"\n",
    "    last_msg = state[\"messages\"][-1]\n",
    "    print(\"Model:\", last_msg.content)\n",
    "\n",
    "    user_input = input(\"User: \")\n",
    "\n",
    "    # If it looks like the user is trying to quit, flag the conversation\n",
    "    # as over.\n",
    "    if user_input in {\"q\", \"quit\", \"exit\", \"goodbye\"}:\n",
    "        state[\"finished\"] = True\n",
    "\n",
    "    return state | {\"messages\": [(\"user\", user_input)]}\n"
   ]
  },
  {
   "cell_type": "markdown",
   "metadata": {},
   "source": [
    "Before you can run this, note that if you added an edge from human back to chatbot, the graph will cycle forever as there is no exit condition. One way to break the cycle is to add a check for a human input like q or quit and use that to break the loop.\n",
    "\n",
    "In LangGraph, this is achieved with a conditional edge. This is similar to a regular graph transition, except a custom function is called to determine which edge to traverse.\n",
    "\n",
    "Conditional edge functions take the state as input, and return a string representing the name of the node to which it will transition."
   ]
  },
  {
   "cell_type": "code",
   "execution_count": 11,
   "metadata": {},
   "outputs": [],
   "source": [
    "def maybe_exit_human_node(state: ItinerariState) -> Literal[\"chatbot\", \"__end__\"]:\n",
    "    \"\"\"Route to the chatbot, unless it looks like the user is exiting.\"\"\"\n",
    "    if state.get(\"finished\", False):\n",
    "        return END\n",
    "    else:\n",
    "        return \"chatbot\"\n"
   ]
  },
  {
   "cell_type": "markdown",
   "metadata": {},
   "source": [
    "### tool node"
   ]
  },
  {
   "cell_type": "code",
   "execution_count": 12,
   "metadata": {},
   "outputs": [],
   "source": []
  },
  {
   "cell_type": "code",
   "execution_count": 12,
   "metadata": {},
   "outputs": [],
   "source": [
    "@tool\n",
    "def recomendar_ciudades() -> List[Dict[str, str]]:\n",
    "    \"\"\"\n",
    "    Consulta nodos 'city' aleatorios de la base de datos Neo4j y devuelve sus nombres y descripciones,\n",
    "    evitando ciudades que ya fueron mostradas.\n",
    "\n",
    "    Returns:\n",
    "        Una lista de diccionarios con los resultados. Cada diccionario tiene las claves 'city' y 'Tourist highlight'.\n",
    "    \"\"\"\n",
    "    global ciudades_mostradas  # Referencia a la variable global\n",
    "\n",
    "    query = f\"\"\"\n",
    "    MATCH (c:city)\n",
    "    WHERE NOT c.name IN {list(ciudades_mostradas)}  // Filtrar las ciudades ya mostradas\n",
    "    WITH c, rand() AS random_order\n",
    "    RETURN c.name AS name, c.content AS content\n",
    "    ORDER BY random_order\n",
    "    LIMIT 5\n",
    "    \"\"\"\n",
    "\n",
    "    with neo4j_driver.session() as session:\n",
    "        result = session.run(query)\n",
    "        cities = [{\"city\": record[\"name\"], \"Tourist highlight\": record[\"content\"]} for record in result]\n",
    "\n",
    "    # Agregar ciudades mostradas al historial\n",
    "    ciudades_mostradas.update([city[\"city\"] for city in cities])\n",
    "\n",
    "    return cities"
   ]
  },
  {
   "cell_type": "code",
   "execution_count": 13,
   "metadata": {},
   "outputs": [],
   "source": [
    "def maybe_route_to_tools(state: ItinerariState) -> Literal[\"tools\", \"human\"]:\n",
    "    \"\"\"Route between human or tool nodes, depending if a tool call is made.\"\"\"\n",
    "    if not (msgs := state.get(\"messages\", [])):\n",
    "        raise ValueError(f\"No messages found when parsing state: {state}\")\n",
    "\n",
    "    # Only route based on the last message.\n",
    "    msg = msgs[-1]\n",
    "\n",
    "    # When the chatbot returns tool_calls, route to the \"tools\" node.\n",
    "    if hasattr(msg, \"tool_calls\") and len(msg.tool_calls) > 0:\n",
    "        return \"tools\"\n",
    "    else:\n",
    "        return \"human\"\n"
   ]
  },
  {
   "cell_type": "code",
   "execution_count": 14,
   "metadata": {},
   "outputs": [],
   "source": [
    "# Definición de tools y tool_node\n",
    "tools = [recomendar_ciudades]\n",
    "tool_node = ToolNode(tools=tools)"
   ]
  },
  {
   "cell_type": "code",
   "execution_count": 15,
   "metadata": {},
   "outputs": [],
   "source": [
    "# Attach the tools to the model so that it knows what it can call.\n",
    "llm_with_tools = llm.bind_tools(tools)"
   ]
  },
  {
   "cell_type": "markdown",
   "metadata": {},
   "source": [
    "### Add the chatbot node"
   ]
  },
  {
   "cell_type": "code",
   "execution_count": 16,
   "metadata": {},
   "outputs": [],
   "source": [
    "def chatbot_with_tools(state: ItinerariState) -> ItinerariState:\n",
    "    \"\"\"The chatbot with tools. A simple wrapper around the model's own chat interface.\"\"\"\n",
    "    \n",
    "    # Lista global para almacenar ciudades mostradas (puedes manejarlo en el estado del chatbot si prefieres)\n",
    "   \n",
    "    defaults = {\n",
    "                \"order\": [], \n",
    "                \"finished\": False,\n",
    "                'ciudades_mostradas' : set()\n",
    "                }\n",
    "\n",
    "    if state[\"messages\"]:\n",
    "        new_output = llm_with_tools.invoke([TURISTBOT_SYSINT] + state[\"messages\"])\n",
    "    else:\n",
    "        new_output = AIMessage(content=WELCOME_MSG)\n",
    "\n",
    "    # Set up some defaults if not already set, then pass through the provided state,\n",
    "    # overriding only the \"messages\" field.\n",
    "    return defaults | state | {\"messages\": [new_output]}\n"
   ]
  },
  {
   "cell_type": "markdown",
   "metadata": {},
   "source": [
    "### Graph builder"
   ]
  },
  {
   "cell_type": "code",
   "execution_count": 17,
   "metadata": {},
   "outputs": [
    {
     "data": {
      "image/png": "[encoded data removed]",
      "text/plain": [
       "<IPython.core.display.Image object>"
      ]
     },
     "execution_count": 17,
     "metadata": {},
     "output_type": "execute_result"
    }
   ],
   "source": [
    "graph_builder = StateGraph(ItinerariState)\n",
    "\n",
    "# Add the nodes, including the new tool_node.\n",
    "graph_builder.add_node(\"chatbot\", chatbot_with_tools)\n",
    "graph_builder.add_node(\"human\", human_node)\n",
    "graph_builder.add_node(\"tools\", tool_node)\n",
    "\n",
    "# Chatbot may go to tools, or human.\n",
    "graph_builder.add_conditional_edges(\"chatbot\", maybe_route_to_tools)\n",
    "# Human may go back to chatbot, or exit.\n",
    "graph_builder.add_conditional_edges(\"human\", maybe_exit_human_node)\n",
    "\n",
    "# Tools always route back to chat afterwards.\n",
    "graph_builder.add_edge(\"tools\", \"chatbot\")\n",
    "\n",
    "graph_builder.add_edge(START, \"chatbot\")\n",
    "graph_with_menu = graph_builder.compile()\n",
    "\n",
    "Image(graph_with_menu.get_graph().draw_mermaid_png())"
   ]
  },
  {
   "cell_type": "code",
   "execution_count": 18,
   "metadata": {},
   "outputs": [
    {
     "name": "stdout",
     "output_type": "stream",
     "text": [
      "Model: Welcome to Central Florida! I can help you discover exciting attractions, find the best restaurants, and create a personalized itinerary. Tell me, are you ready for planning your trip?\n",
      "Model: Great! To start, may I know your name, please?  Also, what kind of trip are you interested in: Family Fun or Adventure Outdoor? And how many days will your trip be?\n",
      "\n",
      "Model: Hi Javier!  A 3-day Family Fun trip sounds fantastic. Now, to make sure I can tailor the perfect itinerary for you, could you please tell me which city in Central Florida you'd like to visit?  If you're not sure, I can suggest some options.\n",
      "\n",
      "Model: Okay, Javier.  We've established your name is Javier. To continue planning your trip, could you please tell me which city in Central Florida you'd like to visit? If you're not sure, I can suggest some options.  And we also need to know the type of trip (Family Fun or Adventure Outdoor) and the number of days.\n",
      "\n",
      "Model: Here are some popular cities in Central Florida that are great for family fun:\n",
      "\n",
      "* **Orlando:** Home to world-famous theme parks like Walt Disney World, Universal Orlando Resort, and SeaWorld.\n",
      "* **Kissimmee:**  Offers a variety of family-friendly attractions, including water parks and shopping, and is conveniently located near Orlando's theme parks.\n",
      "* **Winter Park:** A charming city with beautiful parks, lakes, and a vibrant downtown area.\n",
      "\n",
      "\n",
      "Which of these cities appeals to you most, or would you like to explore other options?\n",
      "\n",
      "Model: Okay, here are a few more options in Central Florida, each with a slightly different family-friendly vibe:\n",
      "\n",
      "* **Lake Buena Vista:**  Essentially a part of the Orlando area, but specifically known for its resort hotels and proximity to Disney World. Very family-focused.\n",
      "* **Celebration:** A planned community near Orlando, known for its picturesque streets, family-friendly atmosphere, and charming shops.  Less focused on big theme parks, more on a relaxed, community feel.\n",
      "* **St. Cloud:** A more affordable option than Orlando or Kissimmee, still with easy access to attractions and a more local, less touristy feel.\n",
      "\n",
      "\n",
      "Do any of these sound more appealing, or would you like me to try and suggest something else based on what you're looking for in a family vacation?\n",
      "\n",
      "Model: Great choice, Lake Buena Vista is an excellent location for a family fun trip! Now, let's find you a place to stay.  I'll need a moment to check hotel options...\n",
      "\n"
     ]
    }
   ],
   "source": [
    "# Uncomment this line to execute the graph:\n",
    "state = graph_with_menu.invoke({\"messages\": []})\n"
   ]
  },
  {
   "cell_type": "code",
   "execution_count": null,
   "metadata": {},
   "outputs": [],
   "source": []
  }
 ],
 "metadata": {
  "kernelspec": {
   "display_name": "Elec_K-KP2SRN86",
   "language": "python",
   "name": "python3"
  },
  "language_info": {
   "codemirror_mode": {
    "name": "ipython",
    "version": 3
   },
   "file_extension": ".py",
   "mimetype": "text/x-python",
   "name": "python",
   "nbconvert_exporter": "python",
   "pygments_lexer": "ipython3",
   "version": "3.11.9"
  }
 },
 "nbformat": 4,
 "nbformat_minor": 2
}
