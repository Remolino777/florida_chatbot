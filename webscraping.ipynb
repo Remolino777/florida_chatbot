{
 "cells": [
  {
   "cell_type": "code",
   "execution_count": 1,
   "metadata": {},
   "outputs": [],
   "source": [
    "from bs4 import BeautifulSoup\n",
    "import requests"
   ]
  },
  {
   "cell_type": "code",
   "execution_count": 3,
   "metadata": {},
   "outputs": [],
   "source": [
    "import pandas as pd"
   ]
  },
  {
   "cell_type": "code",
   "execution_count": 23,
   "metadata": {},
   "outputs": [],
   "source": [
    "import time\n",
    "import random"
   ]
  },
  {
   "cell_type": "code",
   "execution_count": 35,
   "metadata": {},
   "outputs": [
    {
     "name": "stdout",
     "output_type": "stream",
     "text": [
      "['Altamonte-Springs', 'Apopka', 'Bartow', 'Celebration', 'Clermont', 'Dunnellon', 'Eatonville', 'Kissimmee', 'Lake-Buena-Vista', 'Lake-Mary', 'Lake-Placid', 'Lake-Wales', 'Lakeland', 'Mount-Dora', 'Ocala', 'Orlando', 'Oviedo', 'Sanford', 'Sebring', 'St-Cloud', 'Tavares', 'Umatilla', 'Wauchula', 'Wildwood', 'Winter-Garden', 'Winter-Haven', 'Winter-Park']\n"
     ]
    }
   ],
   "source": [
    "# Abre el archivo 'cities' y lee su contenido\n",
    "with open(r'tests\\cities.csv', 'r') as file:\n",
    "    # Lee todas las líneas del archivo y elimina los saltos de línea\n",
    "    cities_list = [line.strip() for line in file]\n",
    "\n",
    "# Imprime la lista de ciudades\n",
    "print(cities_list)"
   ]
  },
  {
   "cell_type": "code",
   "execution_count": 36,
   "metadata": {},
   "outputs": [],
   "source": [
    "data_list = []\n",
    "\n",
    "# Itera sobre cada ciudad en la lista\n",
    "for city in cities_list:\n",
    "    # URL de la página web para la ciudad actual\n",
    "    url = f'https://www.visitflorida.com/places-to-go/central/{city}/'\n",
    "    \n",
    "    # Realiza una solicitud HTTP a la página web\n",
    "    response = requests.get(url)\n",
    "    \n",
    "    # Verifica que la solicitud fue exitosa\n",
    "    if response.status_code == 200:\n",
    "        # Analiza el contenido HTML de la página\n",
    "        soup = BeautifulSoup(response.content, 'html.parser')\n",
    "        \n",
    "        # Encuentra los elementos con la clase 'left-container sv-col'\n",
    "        elements = soup.find_all(class_='left-container sv-col')\n",
    "        \n",
    "        # Extrae y almacena el contenido de esos elementos en un diccionario\n",
    "        for element in elements:\n",
    "            data = {\n",
    "                'city': city,\n",
    "                'content': element.get_text(strip=True)\n",
    "            }\n",
    "            data_list.append(data)\n",
    "    else:\n",
    "        print(f'Error al acceder a la página de {city}: {response.status_code}')\n",
    "    \n",
    "    # Espera un tiempo aleatorio entre 1 y 5 segundos antes de la siguiente solicitud\n",
    "    time.sleep(random.uniform(1, 5))\n"
   ]
  },
  {
   "cell_type": "code",
   "execution_count": 37,
   "metadata": {},
   "outputs": [
    {
     "name": "stdout",
     "output_type": "stream",
     "text": [
      "[{'city': 'Altamonte-Springs', 'content': 'Only 15 minutes north of downtownOrlando, 30 minutes north ofWalt Disney World, and less than an hour fromDaytona Beach, the city ofAltamonte Springsis conveniently located nearCentral Florida’smajor attractions while offering plenty to see and do within the city.A wide variety of shopping and dining choices can be found at the business and urban residential district ofUptown Altamonte, home to theAltamonte Mall. Its focal point, lakefrontCranes Roost Park, features anamphitheater, a61-jet fountainthat displays choreographed shows, aEuropean-style plaza, and a19-foot-tall steel crane sculpture. At the 45-acre park, visitors can stroll or jog along the waterfront,fish, picnic, and attend specialevents, which includeBattle of the Bands,Red Hot & Boom, andLight up the Holidays.Altamonte Springs also offers a cutting-edge way to get around town withCraneRIDES, its autonomous vehicle shuttle. The service runs through Uptown Altamonte, stopping at Altamonte Mall,Renaissance Centre, Cranes Roost, andAMC Altamonte Mall 18.While in the area, a visit toWekiwa Springs State Park, just seven miles northwest of Uptown Altamonte, is a must. In addition to swimming in clear freshwater springs, the state park offersfishingandpaddlingon the Wekiva River,hikingandbikingtrails,camping, and more.Plan your trip atDo Orlando NorthandSeminole County FL.FAMILY FUNVisit the area’s kid-friendly parks and attractions.Urban Air Adventure ParkCongo River GolfOrlando Ice DenWekiwa Springs State ParkTheme parksMore attractionsMUSEUMS, ARTS & ENTERTAINMENTDiscover Orlando North’s art and culture scene.Art, culture, and historyNightlife and entertainmentEventsOUTDOOR ADVENTURESExplore the parks and hit the trails.BirdingWildlifeBikingCampingFishingHikingPaddlingCity parks and trailsMore outdoors and natureWATERWAYSFish and paddle the waterways.Lake OrientaLittle Wekiva RiverCranes Roost LakeBEACHESTake a trip to east coast beaches.New Smyrna BeachDaytona BeachMore beachesACCESSIBILITYCheck out the area’s accessible attractions.Wheelchair-accessible itinerarySpecial needs services and resources guideDININGChoose from a variety or restaurants uptown and at the Altamonte Mall.Altamonte Mall restaurantsMore places to eat and drinkSHOPPINGFind plenty of places to shop at the Altamonte Mall and beyond.Uptown AltamonteAltamonte MallAntiquing in Seminole CountyMore places to shopPLACES TO STAYBook a hotel stay in Altamonte Springs.Embassy Suites by Hilton Orlando NorthHampton Inn & Suites Orlando-North/Altamonte SpringsHilton Orlando/Altamonte SpringsMore places to stay'}, {'city': 'Apopka', 'content': 'The city ofApopka, situated about 25 minutes northwest ofOrlandoand 30 minutes north ofWalt Disney World, is aCentral Floridadestination where families can enjoy some of the state’s most scenicsprings and waterwaysand expansive parks and trails, all within easy driving distance ofmajor theme parksand attractions.When temperatures climb, the Apopka area offers a number of ways to cool off outdoors. Families of all ages will enjoy tubing and swimming in the clear blue waters ofKelly Park and Rock Springs Runand splashing the day away atWekiwa Springs. To add to the adventure,kayaking or paddleboardingthe picturesqueWekiva RiverfromKing’s Landingmakes for an unforgettable day spent in nature. Anglers won’t want to miss an opportunity to do some bass fishing onLake Apopka, which spans 30,000 acres.For land-based adventures,Rock Springs Run State Reservehas trails forhorseback riding,biking, andhikingand offers ample opportunities forspotting wildlife, including the endemicFlorida scrub-jay. For visitors with disabilities,Wekiwa Springshas a chair lift and ramp for access to the springs, and theWest Orange Trail’spaved surface is suitable for wheelchairs and strollers. By cruising theLake Apopka Wildlife Drive, visitors can get close to nature without the need to leave the comfort of a vehicle.In town,The Apopka Museumprovides a glimpse into the city’s past, and when it’s time to eat, visitors can choose from a variety of popularlocal eaterieslikeThe Nauti Lobstah,Eggs Up Grill, andGaribaldi Mexican Restaurant.Plan your trip atVisit Orlando.WATERWAYSExplore the area’s waterways.Rock SpringsWekiva RiverWekiwa SpringsLake ApopkaFAMILY FUNTube in the spring and visit the parks and playgrounds.Apopka Splash PadKelly Park tubingCity parks and playgroundsMUSEUMS, ARTS & ENTERTAINMENTAttend local events, see the museum, and explore the arts and culture scene in nearby Orlando.The Apopka MuseumApopka Art & Foliage FestivalMore eventsOrlando arts and cultureOUTDOOR ADVENTURESBike, hike, tube, paddle, and swim at some of Central Florida’s most scenic parks and trails.Wekiwa Springs State ParkKing’s LandingKelly ParkWest Orange TrailLake Apopka Loop TrailLake Apopka Wildlife DrivePaddleboard and kayak rentalsACCESSIBILITYCheck out the area’s accessible parks and attractions.Wekiwa Springs State ParkWheelchair-accessible trailsAccessible travel informationDININGVisit some of Apopka’s favorite local restaurants or venture into Orlando for endless dining options.The Nauti LobstahGaribaldi Mexican RestaurantEggs Up GrillMore Apopka restaurantsPlaces to eat and drink in OrlandoSHOPPINGFind retail therapy at Apopka’s stores and shops.Shopping and specialty retailHome and gardenPlaces to shop in OrlandoSPORTSTee off on a local golf course, play a game of football or baseball, or hit the tennis courts.Forest Lake Golf ClubWekiva Golf ClubNorthwest Recreation ComplexTennisPET-FRIENDLY ADVENTURESExplore dog-friendly parks and trails.Doctors’ Dog ParkWest Orange TrailWekiwa Springs State ParkPet-friendly places to stayPLACES TO STAYChoose from a wide variety of accommodations in Apopka and the surrounding areas.Condos and vacation rentalsHotels and resortsCampgrounds and RV parksA day at Wekiva Springs State Park'}, {'city': 'Bartow', 'content': 'Aptly nicknamed the “City of Oaks and Azaleas,”Bartowis situated 12 miles southeast ofLakelandand 40 miles east ofTampa.As the county seat ofPolk Countyand its second-oldest city, Bartow is steeped in Southern culture and history, which visitors can learn about at the Polk County History Center and the circa-1892L.B. Brown House and Museum, located neardowntown Bartow. Considered an architectural masterpiece, the Victorian home built by L.B. Brown, a self-taught master carpenter and former enslaved man, is located 1.5 miles from another must-see historic home called theWonder House, which was featured on the Netflix show “Amazing Interiors.”When it comes toshoppinganddining, downtown Bartow is the place to hunt for antiques, collectibles, and locally made goods, relax at a cozy cafe, and enjoy a meal at one of the many independentrestaurants. Downtown and elsewhere in Bartow, visitors can catch fun events throughout the year like theL.B. Brown Festivalin February, theBloomin’ Arts Festivalin spring, andSYFY Bartow, which celebrates all things science fiction.Bartow iswhere the Peace River beginsand the area is home to several nature preserves and parks. At the north side of town, anglers can set out from theLake Hancock Boat Rampin pursuit of bass, bluegill, and crappie onLake Hancock, a shallow lake covering nearly 5,000 acres. The boat ramp is also where visitors can reach thePanther Point Trailfor hiking and biking. Known as an excellent place to see wildlife,Circle B Bar Reservecan be found just 10 miles north of town, andMosaic Peace River Parkis about seven miles south of town.While in the area, families of all ages will want to check out nearbyattractionsincludingLEGOLAND Florida Resort, located 15 miles from Bartow inWinter Haven.Plan your trip atVisit Central Florida.WATERWAYSThe famed Peace River begins in Bartow.Peace RiverLake HancockMUSEUMS, ARTS & ENTERTAINMENTVisit the museums and check out local events.L.B. Brown House and MuseumAfrican American Heritage MuseumPolk County History CenterBartow Airbase History MuseumWonder HouseL.B. Brown FestivalDowntown eventsMore eventsOUTDOOR ADVENTURESExplore the parks and trails.Fishing and boatingMosaic Peace River ParkPolk’s Nature Discovery CenterCircle B Bar ReserveFort Fraser TrailPanther Point TrailBartow Peace River LandingCity parksCounty parksFAMILY FUNFind family-friendly entertainment and attractions in Bartow and the surrounding areas.City parks and playgrounds555 Triple Nickel RacewayCentral Florida kid-friendly attractionsSpring break ideasACCESSIBILITYCheck out accessible attractions and parks.Fort Fraser TrailCentral Florida accessible attractionsDININGFind an array of dining options downtown.RestaurantsBakeriesMore places to eat and drinkSHOPPINGShop for gifts, collectibles, books, and more.Bartow Antiques & Collectibles MarketGift boutiquesApparelBooks and collectiblesMore retail storesSPORTSPlay a round of golf in Bartow.Bartow Golf CourseThe Club at EaglebrookeMore sportsPLACES TO STAYChoose from the area’s hotels and resorts.HotelsResortsMore places to stayPaddling the Peace River'}]\n"
     ]
    }
   ],
   "source": [
    "print(data_list[:3])"
   ]
  },
  {
   "cell_type": "code",
   "execution_count": 38,
   "metadata": {},
   "outputs": [],
   "source": [
    "import json"
   ]
  },
  {
   "cell_type": "code",
   "execution_count": 39,
   "metadata": {},
   "outputs": [],
   "source": [
    "ruta_archivo = 'tests/data.json'"
   ]
  },
  {
   "cell_type": "code",
   "execution_count": 40,
   "metadata": {},
   "outputs": [],
   "source": [
    "with open(ruta_archivo, \"w\", encoding=\"utf-8\") as archivo:\n",
    "    json.dump(data_list, archivo, ensure_ascii=False, indent=4)"
   ]
  }
 ],
 "metadata": {
  "kernelspec": {
   "display_name": "Elec_K-KP2SRN86",
   "language": "python",
   "name": "python3"
  },
  "language_info": {
   "codemirror_mode": {
    "name": "ipython",
    "version": 3
   },
   "file_extension": ".py",
   "mimetype": "text/x-python",
   "name": "python",
   "nbconvert_exporter": "python",
   "pygments_lexer": "ipython3",
   "version": "3.11.9"
  }
 },
 "nbformat": 4,
 "nbformat_minor": 2
}
