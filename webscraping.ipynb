{
 "cells": [
  {
   "cell_type": "code",
   "execution_count": 1,
   "metadata": {},
   "outputs": [],
   "source": [
    "from bs4 import BeautifulSoup\n",
    "import requests\n",
    "import time\n",
    "import random"
   ]
  },
  {
   "cell_type": "code",
   "execution_count": 4,
   "metadata": {},
   "outputs": [],
   "source": [
    "import pandas as pd\n",
    "import re"
   ]
  },
  {
   "cell_type": "code",
   "execution_count": 3,
   "metadata": {},
   "outputs": [
    {
     "name": "stdout",
     "output_type": "stream",
     "text": [
      "['Altamonte-Springs', 'Apopka', 'Bartow', 'Celebration', 'Clermont', 'Dunnellon', 'Eatonville', 'Kissimmee', 'Lake-Buena-Vista', 'Lake-Mary', 'Lake-Placid', 'Lake-Wales', 'Lakeland', 'Mount-Dora', 'Ocala', 'Orlando', 'Oviedo', 'Sanford', 'Sebring', 'St-Cloud', 'Tavares', 'Umatilla', 'Wauchula', 'Wildwood', 'Winter-Garden', 'Winter-Haven', 'Winter-Park']\n"
     ]
    }
   ],
   "source": [
    "# Abre el archivo 'cities' y lee su contenido\n",
    "with open(r'tests\\cities.csv', 'r') as file:\n",
    "    # Lee todas las líneas del archivo y elimina los saltos de línea\n",
    "    cities_list = [line.strip() for line in file]\n",
    "\n",
    "# Imprime la lista de ciudades\n",
    "print(cities_list)"
   ]
  },
  {
   "cell_type": "code",
   "execution_count": 7,
   "metadata": {},
   "outputs": [],
   "source": [
    "def extract_text_with_spaces(element):\n",
    "    \"\"\"\n",
    "    Extrae texto de un elemento HTML manteniendo espacios correctos.\n",
    "    \n",
    "    Args:\n",
    "        element: Elemento BeautifulSoup a procesar\n",
    "        \n",
    "    Returns:\n",
    "        str: Texto limpio con espacios preservados\n",
    "    \"\"\"\n",
    "    def process_node(node):\n",
    "        if node.name is None:  # Nodo de texto\n",
    "            return node.string\n",
    "        \n",
    "        processed_parts = []\n",
    "        for child in node.children:\n",
    "            text = process_node(child)\n",
    "            if text:\n",
    "                processed_parts.append(text.strip())\n",
    "        \n",
    "        return ' '.join(processed_parts)\n",
    "    \n",
    "    # Obtener texto procesado y limpiar espacios múltiples\n",
    "    text = process_node(element)\n",
    "    return re.sub(r'\\s+', ' ', text).strip()"
   ]
  },
  {
   "cell_type": "code",
   "execution_count": 8,
   "metadata": {},
   "outputs": [],
   "source": [
    "data_list = []\n",
    "\n",
    "# Itera sobre cada ciudad en la lista\n",
    "for city in cities_list:\n",
    "    # URL de la página web para la ciudad actual\n",
    "    url = f'https://www.visitflorida.com/places-to-go/central/{city}/'\n",
    "    \n",
    "    # Realiza una solicitud HTTP a la página web\n",
    "    response = requests.get(url)\n",
    "    \n",
    "    # Verifica que la solicitud fue exitosa\n",
    "    if response.status_code == 200:\n",
    "        # Analiza el contenido HTML de la página\n",
    "        soup = BeautifulSoup(response.content, 'html.parser')\n",
    "        \n",
    "        # Encuentra los elementos con la clase 'left-container sv-col'\n",
    "        elements = soup.find_all(class_='left-container sv-col')\n",
    "        \n",
    "        # Extrae y almacena el contenido de esos elementos en un diccionario\n",
    "        for element in elements:\n",
    "            data = {\n",
    "                'city': city,\n",
    "                'content': extract_text_with_spaces(element)\n",
    "            }\n",
    "            data_list.append(data)\n",
    "    else:\n",
    "        print(f'Error al acceder a la página de {city}: {response.status_code}')\n",
    "    \n",
    "    # Espera un tiempo aleatorio entre 1 y 5 segundos antes de la siguiente solicitud\n",
    "    time.sleep(random.uniform(1, 5))\n"
   ]
  },
  {
   "cell_type": "code",
   "execution_count": 9,
   "metadata": {},
   "outputs": [
    {
     "name": "stdout",
     "output_type": "stream",
     "text": [
      "[{'city': 'Altamonte-Springs', 'content': 'Only 15 minutes north of downtown Orlando , 30 minutes north of Walt Disney World , and less than an hour from Daytona Beach , the city of Altamonte Springs is conveniently located near Central Florida’s major attractions while offering plenty to see and do within the city. A wide variety of shopping and dining choices can be found at the business and urban residential district of Uptown Altamonte , home to the Altamonte Mall . Its focal point, lakefront Cranes Roost Park , features an amphitheater , a 61-jet fountain that displays choreographed shows, a European-style plaza , and a 19-foot-tall steel crane sculpture . At the 45-acre park, visitors can stroll or jog along the waterfront, fish , picnic, and attend special events , which include Battle of the Bands , Red Hot & Boom , and Light up the Holidays . Altamonte Springs also offers a cutting-edge way to get around town with CraneRIDES , its autonomous vehicle shuttle. The service runs through Uptown Altamonte, stopping at Altamonte Mall, Renaissance Centre , Cranes Roost, and AMC Altamonte Mall 18 . While in the area, a visit to Wekiwa Springs State Park , just seven miles northwest of Uptown Altamonte, is a must. In addition to swimming in clear freshwater springs, the state park offers fishing and paddling on the Wekiva River, hiking and biking trails, camping , and more. Plan your trip at Do Orlando North and Seminole County FL . FAMILY FUN Visit the area’s kid-friendly parks and attractions. Urban Air Adventure Park Congo River Golf Orlando Ice Den Wekiwa Springs State Park Theme parks More attractions MUSEUMS, ARTS & ENTERTAINMENT Discover Orlando North’s art and culture scene. Art, culture, and history Nightlife and entertainment Events OUTDOOR ADVENTURES Explore the parks and hit the trails. Birding Wildlife Biking Camping Fishing Hiking Paddling City parks and trails More outdoors and nature WATERWAYS Fish and paddle the waterways. Lake Orienta Little Wekiva River Cranes Roost Lake BEACHES Take a trip to east coast beaches. New Smyrna Beach Daytona Beach More beaches ACCESSIBILITY Check out the area’s accessible attractions. Wheelchair-accessible itinerary Special needs services and resources guide DINING Choose from a variety or restaurants uptown and at the Altamonte Mall. Altamonte Mall restaurants More places to eat and drink SHOPPING Find plenty of places to shop at the Altamonte Mall and beyond. Uptown Altamonte Altamonte Mall Antiquing in Seminole County More places to shop PLACES TO STAY Book a hotel stay in Altamonte Springs. Embassy Suites by Hilton Orlando North Hampton Inn & Suites Orlando-North/Altamonte Springs Hilton Orlando/Altamonte Springs More places to stay'}, {'city': 'Apopka', 'content': 'The city of Apopka , situated about 25 minutes northwest of Orlando and 30 minutes north of Walt Disney World , is a Central Florida destination where families can enjoy some of the state’s most scenic springs and waterways and expansive parks and trails, all within easy driving distance of major theme parks and attractions. When temperatures climb, the Apopka area offers a number of ways to cool off outdoors. Families of all ages will enjoy tubing and swimming in the clear blue waters of Kelly Park and Rock Springs Run and splashing the day away at Wekiwa Springs . To add to the adventure, kayaking or paddleboarding the picturesque Wekiva River from King’s Landing makes for an unforgettable day spent in nature. Anglers won’t want to miss an opportunity to do some bass fishing on Lake Apopka , which spans 30,000 acres. For land-based adventures, Rock Springs Run State Reserve has trails for horseback riding , biking , and hiking and offers ample opportunities for spotting wildlife , including the endemic Florida scrub-jay . For visitors with disabilities, Wekiwa Springs has a chair lift and ramp for access to the springs, and the West Orange Trail’s paved surface is suitable for wheelchairs and strollers. By cruising the Lake Apopka Wildlife Drive , visitors can get close to nature without the need to leave the comfort of a vehicle. In town, The Apopka Museum provides a glimpse into the city’s past, and when it’s time to eat, visitors can choose from a variety of popular local eateries like The Nauti Lobstah , Eggs Up Grill , and Garibaldi Mexican Restaurant . Plan your trip at Visit Orlando . WATERWAYS Explore the area’s waterways. Rock Springs Wekiva River Wekiwa Springs Lake Apopka FAMILY FUN Tube in the spring and visit the parks and playgrounds. Apopka Splash Pad Kelly Park tubing City parks and playgrounds MUSEUMS, ARTS & ENTERTAINMENT Attend local events, see the museum, and explore the arts and culture scene in nearby Orlando. The Apopka Museum Apopka Art & Foliage Festival More events Orlando arts and culture OUTDOOR ADVENTURES Bike, hike, tube, paddle, and swim at some of Central Florida’s most scenic parks and trails. Wekiwa Springs State Park King’s Landing Kelly Park West Orange Trail Lake Apopka Loop Trail Lake Apopka Wildlife Drive Paddleboard and kayak rentals ACCESSIBILITY Check out the area’s accessible parks and attractions. Wekiwa Springs State Park Wheelchair-accessible trails Accessible travel information DINING Visit some of Apopka’s favorite local restaurants or venture into Orlando for endless dining options. The Nauti Lobstah Garibaldi Mexican Restaurant Eggs Up Grill More Apopka restaurants Places to eat and drink in Orlando SHOPPING Find retail therapy at Apopka’s stores and shops. Shopping and specialty retail Home and garden Places to shop in Orlando SPORTS Tee off on a local golf course, play a game of football or baseball, or hit the tennis courts. Forest Lake Golf Club Wekiva Golf Club Northwest Recreation Complex Tennis PET-FRIENDLY ADVENTURES Explore dog-friendly parks and trails. Doctors’ Dog Park West Orange Trail Wekiwa Springs State Park Pet-friendly places to stay PLACES TO STAY Choose from a wide variety of accommodations in Apopka and the surrounding areas. Condos and vacation rentals Hotels and resorts Campgrounds and RV parks A day at Wekiva Springs State Park'}, {'city': 'Bartow', 'content': 'Aptly nicknamed the “City of Oaks and Azaleas,” Bartow is situated 12 miles southeast of Lakeland and 40 miles east of Tampa . As the county seat of Polk County and its second-oldest city, Bartow is steeped in Southern culture and history, which visitors can learn about at the Polk County History Center and the circa-1892 L.B. Brown House and Museum , located near downtown Bartow . Considered an architectural masterpiece, the Victorian home built by L.B. Brown, a self-taught master carpenter and former enslaved man, is located 1.5 miles from another must-see historic home called the Wonder House , which was featured on the Netflix show “Amazing Interiors.” When it comes to shopping and dining , downtown Bartow is the place to hunt for antiques, collectibles, and locally made goods, relax at a cozy cafe, and enjoy a meal at one of the many independent restaurants . Downtown and elsewhere in Bartow, visitors can catch fun events throughout the year like the L.B. Brown Festival in February, the Bloomin’ Arts Festival in spring, and SYFY Bartow , which celebrates all things science fiction. Bartow is where the Peace River begins and the area is home to several nature preserves and parks. At the north side of town, anglers can set out from the Lake Hancock Boat Ramp in pursuit of bass, bluegill, and crappie on Lake Hancock , a shallow lake covering nearly 5,000 acres. The boat ramp is also where visitors can reach the Panther Point Trail for hiking and biking. Known as an excellent place to see wildlife, Circle B Bar Reserve can be found just 10 miles north of town, and Mosaic Peace River Park is about seven miles south of town. While in the area, families of all ages will want to check out nearby attractions including LEGOLAND Florida Resort , located 15 miles from Bartow in Winter Haven . Plan your trip at Visit Central Florida . WATERWAYS The famed Peace River begins in Bartow. Peace River Lake Hancock MUSEUMS, ARTS & ENTERTAINMENT Visit the museums and check out local events. L.B. Brown House and Museum African American Heritage Museum Polk County History Center Bartow Airbase History Museum Wonder House L.B. Brown Festival Downtown events More events OUTDOOR ADVENTURES Explore the parks and trails. Fishing and boating Mosaic Peace River Park Polk’s Nature Discovery Center Circle B Bar Reserve Fort Fraser Trail Panther Point Trail Bartow Peace River Landing City parks County parks FAMILY FUN Find family-friendly entertainment and attractions in Bartow and the surrounding areas. City parks and playgrounds 555 Triple Nickel Raceway Central Florida kid-friendly attractions Spring break ideas ACCESSIBILITY Check out accessible attractions and parks. Fort Fraser Trail Central Florida accessible attractions DINING Find an array of dining options downtown. Restaurants Bakeries More places to eat and drink SHOPPING Shop for gifts, collectibles, books, and more. Bartow Antiques & Collectibles Market Gift boutiques Apparel Books and collectibles More retail stores SPORTS Play a round of golf in Bartow. Bartow Golf Course The Club at Eaglebrooke More sports PLACES TO STAY Choose from the area’s hotels and resorts. Hotels Resorts More places to stay Paddling the Peace River'}]\n"
     ]
    }
   ],
   "source": [
    "print(data_list[:3])"
   ]
  },
  {
   "cell_type": "code",
   "execution_count": 10,
   "metadata": {},
   "outputs": [],
   "source": [
    "import json"
   ]
  },
  {
   "cell_type": "code",
   "execution_count": 11,
   "metadata": {},
   "outputs": [],
   "source": [
    "ruta_archivo = 'tests/data.json'"
   ]
  },
  {
   "cell_type": "code",
   "execution_count": 12,
   "metadata": {},
   "outputs": [],
   "source": [
    "with open(ruta_archivo, \"w\", encoding=\"utf-8\") as archivo:\n",
    "    json.dump(data_list, archivo, ensure_ascii=False, indent=4)"
   ]
  },
  {
   "cell_type": "code",
   "execution_count": null,
   "metadata": {},
   "outputs": [],
   "source": []
  }
 ],
 "metadata": {
  "kernelspec": {
   "display_name": "Elec_K-KP2SRN86",
   "language": "python",
   "name": "python3"
  },
  "language_info": {
   "codemirror_mode": {
    "name": "ipython",
    "version": 3
   },
   "file_extension": ".py",
   "mimetype": "text/x-python",
   "name": "python",
   "nbconvert_exporter": "python",
   "pygments_lexer": "ipython3",
   "version": "3.11.9"
  }
 },
 "nbformat": 4,
 "nbformat_minor": 2
}
