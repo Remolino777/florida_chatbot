{
 "cells": [
  {
   "cell_type": "code",
   "execution_count": 1,
   "metadata": {},
   "outputs": [],
   "source": [
    "# Load the environment variables from the .env file\n",
    "import os\n",
    "from dotenv import load_dotenv\n",
    "\n",
    "# Define state variables in the chatbot\n",
    "from typing import Annotated, Literal\n",
    "from typing_extensions import TypedDict\n",
    "\n",
    "# Connect to the RAG database.\n",
    "from neo4j import GraphDatabase\n",
    "\n",
    "#Langgraph\n",
    "from langgraph.graph.message import add_messages\n",
    "\n",
    "# Chatbot logic\n",
    "from langgraph.graph import StateGraph, START, END\n",
    "from langchain_google_genai import ChatGoogleGenerativeAI\n",
    "# It can be helpful to visualise the graph you just defined. The following code renders the graph.\n",
    "from IPython.display import Image, display\n",
    "# Add the human node to the graph.\n",
    "from langchain_core.messages.ai import AIMessage\n",
    "\n",
    "# use to create the tool node in the graph\n",
    "from langchain_core.tools import tool\n"
   ]
  },
  {
   "cell_type": "code",
   "execution_count": 2,
   "metadata": {},
   "outputs": [],
   "source": [
    "from typing import List, Optional, Tuple\n",
    "from pydantic import BaseModel, Field"
   ]
  },
  {
   "cell_type": "code",
   "execution_count": 3,
   "metadata": {},
   "outputs": [],
   "source": [
    "class ItineraryDetails(BaseModel):\n",
    "    \"\"\"State representing the customer's tourist details conversation.\"\"\"\n",
    "\n",
    "    # The chat conversation history, updated by appending messages\n",
    "    messages: List[str] = Field(default_factory=list)\n",
    "\n",
    "    # The customer's trip details\n",
    "    trip_details: List[str] = Field(default_factory=list)\n",
    "\n",
    "    # User's name for personalized interaction\n",
    "    user_name: Optional[str] = None\n",
    "\n",
    "    # Type of trip (e.g., \"Family Fun\" or \"Adventure Outdoor\")\n",
    "    trip_type: Optional[str] = None\n",
    "\n",
    "    # Number of days in the itinerary\n",
    "    itinerary_days: Optional[int] = None\n",
    "\n",
    "    # The target city selected by the user\n",
    "    target_city: Optional[str] = None\n",
    "\n",
    "    # List of recommended cities\n",
    "    recommended_cities: List[str] = Field(default_factory=list)\n",
    "\n",
    "    # The selected hotel/accommodation\n",
    "    selected_hotel: Optional[str] = None\n",
    "\n",
    "    # Flag indicating that the itinerary is confirmed and complete\n",
    "    finished: bool = False"
   ]
  },
  {
   "cell_type": "code",
   "execution_count": 4,
   "metadata": {},
   "outputs": [],
   "source": [
    "# 🟢 Node 1: Initial Engagement (Collects User Details)\n",
    "def initial_node(state: ItineraryDetails, user_input: dict) -> Tuple[ItineraryDetails, str]:\n",
    "    \"\"\"Collect user's name, trip type, and target city.\"\"\"\n",
    "    state.user_name = user_input.get(\"user_name\", state.user_name)\n",
    "    state.trip_type = user_input.get(\"trip_type\", state.trip_type)\n",
    "    state.itinerary_days = user_input.get(\"itinerary_days\", state.itinerary_days)\n",
    "    \n",
    "    # If no city is specified, suggest one\n",
    "    if not state.target_city:\n",
    "        state.recommended_cities = recomendar_ciudades()\n",
    "        return state, \"ask_target_city\"\n",
    "    \n",
    "    return state, \"validate_days\""
   ]
  },
  {
   "cell_type": "code",
   "execution_count": 5,
   "metadata": {},
   "outputs": [],
   "source": [
    "# 🟠 Node 2: Validate Days\n",
    "def validate_days_node(state: ItineraryDetails) -> Tuple[ItineraryDetails, str]:\n",
    "    \"\"\"Checks if the number of days is greater than 5 and suggests multiple cities if needed.\"\"\"\n",
    "    if state.itinerary_days is not None and state.itinerary_days > 5:\n",
    "        return state, \"suggest_multiple_cities\"\n",
    "    return state, \"confirm_details\""
   ]
  },
  {
   "cell_type": "code",
   "execution_count": 6,
   "metadata": {},
   "outputs": [],
   "source": [
    "# 🔵 Node 3: Confirm Details\n",
    "def confirm_details_node(state: ItineraryDetails, user_input: dict) -> Tuple[ItineraryDetails, str]:\n",
    "    \"\"\"Asks the user to confirm their choices before finalizing the itinerary.\"\"\"\n",
    "    confirmation = user_input.get(\"confirmation\", False)\n",
    "    \n",
    "    if confirmation:\n",
    "        state.finished = True  # Mark as completed\n",
    "        return state, \"finalize_node\"  # Return \"finalize_node\" instead of \"finalize_itinerary\"\n",
    "    \n",
    "    return state, \"reset_node\"  # Return \"reset_node\" instead of \"reset\""
   ]
  },
  {
   "cell_type": "code",
   "execution_count": 7,
   "metadata": {},
   "outputs": [],
   "source": [
    "# 🔄 Node 4: Reset Conversation\n",
    "def reset_node(state: ItineraryDetails) -> Tuple[ItineraryDetails, str]:\n",
    "    \"\"\"Resets the state and restarts the conversation.\"\"\"\n",
    "    return ItineraryDetails(), \"initial_node\""
   ]
  },
  {
   "cell_type": "code",
   "execution_count": 8,
   "metadata": {},
   "outputs": [],
   "source": [
    "# Helper function to save the itinerary (pseudo-code)\n",
    "def save_itinerary(itinerary: ItineraryDetails):\n",
    "    \"\"\"\n",
    "    Saves the itinerary to a database or file.\n",
    "\n",
    "    Args:\n",
    "        itinerary (ItineraryDetails): The itinerary details to save.\n",
    "    \"\"\"\n",
    "    # Example: Save to a database (replace with actual implementation)\n",
    "    # database.save(itinerary)\n",
    "    print(f\"Saving itinerary: {itinerary}\")\n",
    "\n",
    "    # Example: Save to a file\n",
    "    with open(\"itinerary.txt\", \"w\") as file:\n",
    "        file.write(str(itinerary))"
   ]
  },
  {
   "cell_type": "code",
   "execution_count": 9,
   "metadata": {},
   "outputs": [],
   "source": [
    "def finalize_node(state: ItineraryDetails) -> dict:\n",
    "    \"\"\"\n",
    "    Finalizes the itinerary by saving details, generating a summary, and returning a confirmation message.\n",
    "\n",
    "    Args:\n",
    "        state (ItineraryDetails): The current state of the itinerary details.\n",
    "\n",
    "    Returns:\n",
    "        dict: A dictionary containing the final confirmation message and any additional data.\n",
    "    \"\"\"\n",
    "    # Example: Generate a summary of the itinerary\n",
    "    summary = f\"\"\"\n",
    "    Itinerary Summary:\n",
    "    - Destination: {state.destination}\n",
    "    - Number of Days: {state.num_days}\n",
    "    - Activities: {', '.join(state.activities)}\n",
    "    - Confirmed: {state.is_confirmed}\n",
    "    \"\"\"\n",
    "\n",
    "    # Example: Save the itinerary to a database or file (pseudo-code)\n",
    "    save_itinerary(state)\n",
    "\n",
    "    # Example: Notify the user or system that the itinerary is finalized\n",
    "    confirmation_message = \"Your itinerary has been finalized. Thank you for using our service!\"\n",
    "\n",
    "    # Return the result\n",
    "    return {\n",
    "        \"status\": \"success\",\n",
    "        \"message\": confirmation_message,\n",
    "        \"summary\": summary,\n",
    "        \"itinerary\": state  # Optionally return the state for further use\n",
    "    }"
   ]
  },
  {
   "cell_type": "code",
   "execution_count": 10,
   "metadata": {},
   "outputs": [],
   "source": [
    "def should_finalize(state):\n",
    "    return state.finished \n",
    "\n",
    "def transition_to_finalize(state: ItineraryDetails) -> str:\n",
    "    \"\"\"\n",
    "    Determines the next node based on the state.\n",
    "\n",
    "    Args:\n",
    "        state (ItineraryDetails): The current state of the itinerary.\n",
    "\n",
    "    Returns:\n",
    "        str: The next node to transition to (\"finalize_node\" or \"reset_node\").\n",
    "    \"\"\"\n",
    "    if state.finished:  # Use the same condition as confirm_details_node\n",
    "        return \"finalize_node\"\n",
    "    else:\n",
    "        return \"reset_node\""
   ]
  },
  {
   "cell_type": "code",
   "execution_count": 11,
   "metadata": {},
   "outputs": [],
   "source": [
    "def should_reset(state):\n",
    "    return not state.finished\n",
    "\n",
    "def transition_to_reset(state):\n",
    "    if should_reset(state):\n",
    "        return \"reset\" "
   ]
  },
  {
   "cell_type": "code",
   "execution_count": 13,
   "metadata": {},
   "outputs": [
    {
     "data": {
      "image/png": "[encoded data removed]",
      "text/plain": [
       "<IPython.core.display.Image object>"
      ]
     },
     "execution_count": 13,
     "metadata": {},
     "output_type": "execute_result"
    }
   ],
   "source": [
    "# Initialize the workflow\n",
    "workflow = StateGraph(ItineraryDetails)\n",
    "\n",
    "# Add nodes to the workflow\n",
    "workflow.add_node(\"initial_node\", initial_node)\n",
    "workflow.add_node(\"validate_days\", validate_days_node)\n",
    "workflow.add_node(\"confirm_details\", confirm_details_node)\n",
    "workflow.add_node(\"finalize_node\", finalize_node)  # Ensure this node is added\n",
    "workflow.add_node(\"reset_node\", reset_node)  # Ensure this node is added\n",
    "\n",
    "# Define edges\n",
    "workflow.set_entry_point(\"initial_node\")\n",
    "workflow.add_edge(\"initial_node\", \"validate_days\")\n",
    "workflow.add_edge(\"validate_days\", \"confirm_details\")\n",
    "\n",
    "# Add conditional edge from confirm_details\n",
    "workflow.add_conditional_edges(\n",
    "    \"confirm_details\",\n",
    "    transition_to_finalize,  # Function to determine the next node\n",
    "    {\n",
    "        \"finalize_node\": \"finalize_node\",  # Transition to finalize_node\n",
    "        \"reset_node\": \"reset_node\"  # Transition to reset_node\n",
    "    }\n",
    ")\n",
    "\n",
    "# Add edge from reset_node back to initial_node\n",
    "workflow.add_edge(\"reset_node\", \"initial_node\")\n",
    "\n",
    "# Compile the workflow\n",
    "app = workflow.compile()\n",
    "Image(app.get_graph().draw_mermaid_png())"
   ]
  },
  {
   "cell_type": "code",
   "execution_count": null,
   "metadata": {},
   "outputs": [],
   "source": []
  }
 ],
 "metadata": {
  "kernelspec": {
   "display_name": "Elec_K-KP2SRN86",
   "language": "python",
   "name": "python3"
  },
  "language_info": {
   "codemirror_mode": {
    "name": "ipython",
    "version": 3
   },
   "file_extension": ".py",
   "mimetype": "text/x-python",
   "name": "python",
   "nbconvert_exporter": "python",
   "pygments_lexer": "ipython3",
   "version": "3.11.9"
  }
 },
 "nbformat": 4,
 "nbformat_minor": 2
}
